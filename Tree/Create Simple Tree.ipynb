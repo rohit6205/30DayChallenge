{
 "cells": [
  {
   "cell_type": "code",
   "execution_count": 49,
   "metadata": {},
   "outputs": [],
   "source": [
    "class TreeNode:\n",
    "    def __init__(self, data):\n",
    "        self.data = data\n",
    "        self.children = []\n",
    "        self.parent = None\n",
    "        \n",
    "    def add_child(self, child):\n",
    "        child.parent = self\n",
    "        self.children.append(child)\n",
    "    \n",
    "    def print_tree(self):\n",
    "        print(self.data)\n",
    "        if self.children:\n",
    "            for child in self.children:\n",
    "                child.print_tree()\n",
    "    \n",
    "    def get_node_level(self):\n",
    "        level = 0\n",
    "        while self.parent:\n",
    "            level += 1\n",
    "            self = self.parent\n",
    "        return level\n",
    "        \n",
    "        \n",
    "def build_tree():\n",
    "    root = TreeNode('electronics')\n",
    "\n",
    "    tv = TreeNode('television')\n",
    "    samsung = TreeNode('samsung')\n",
    "    tv.add_child(samsung)\n",
    "    tv.add_child(TreeNode('MI'))\n",
    "    tv.add_child(TreeNode('Sony'))\n",
    "\n",
    "    laptop = TreeNode('Laptop')\n",
    "    laptop.add_child(TreeNode('apple'))\n",
    "    laptop.add_child(TreeNode('lenovo'))\n",
    "\n",
    "    root.add_child(tv)\n",
    "    root.add_child(laptop)\n",
    "    \n",
    "    \n",
    "    print(samsung.get_node_level())\n",
    "\n",
    "    return root"
   ]
  },
  {
   "cell_type": "code",
   "execution_count": 50,
   "metadata": {},
   "outputs": [
    {
     "name": "stdout",
     "output_type": "stream",
     "text": [
      "2\n"
     ]
    }
   ],
   "source": [
    "root = build_tree()"
   ]
  },
  {
   "cell_type": "code",
   "execution_count": 48,
   "metadata": {
    "scrolled": true
   },
   "outputs": [
    {
     "name": "stdout",
     "output_type": "stream",
     "text": [
      "electronics\n",
      "television\n",
      "samsung\n",
      "MI\n",
      "Sony\n",
      "Laptop\n",
      "apple\n",
      "lenovo\n"
     ]
    }
   ],
   "source": [
    "root.print_tree()"
   ]
  },
  {
   "cell_type": "code",
   "execution_count": null,
   "metadata": {},
   "outputs": [],
   "source": []
  }
 ],
 "metadata": {
  "kernelspec": {
   "display_name": "Python 3",
   "language": "python",
   "name": "python3"
  },
  "language_info": {
   "codemirror_mode": {
    "name": "ipython",
    "version": 3
   },
   "file_extension": ".py",
   "mimetype": "text/x-python",
   "name": "python",
   "nbconvert_exporter": "python",
   "pygments_lexer": "ipython3",
   "version": "3.8.5"
  }
 },
 "nbformat": 4,
 "nbformat_minor": 4
}
