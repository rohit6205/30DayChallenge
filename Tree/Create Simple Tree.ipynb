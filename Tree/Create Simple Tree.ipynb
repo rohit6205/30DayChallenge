{
 "cells": [
  {
   "cell_type": "code",
   "execution_count": 72,
   "metadata": {},
   "outputs": [],
   "source": [
    "class TreeNode:\n",
    "    def __init__(self, data):\n",
    "        self.data = data\n",
    "        self.children = []\n",
    "        self.parent = None\n",
    "        \n",
    "    def add_child(self, child):\n",
    "        child.parent = self\n",
    "        self.children.append(child)\n",
    "    \n",
    "    def print_tree(self):\n",
    "        level = self.get_node_level()\n",
    "        struct = '|--' * level\n",
    "        print(struct + self.data)\n",
    "        if self.children:\n",
    "            for child in self.children:\n",
    "                child.print_tree()\n",
    "    \n",
    "    def get_node_level(self):\n",
    "        level = 0\n",
    "        while self.parent:\n",
    "            level += 1\n",
    "            self = self.parent\n",
    "        return level\n",
    "        \n",
    "        \n",
    "def build_tree():\n",
    "    root = TreeNode('electronics')\n",
    "\n",
    "    tv = TreeNode('television')\n",
    "    samsung = TreeNode('samsung')\n",
    "    tv.add_child(samsung)\n",
    "    tv.add_child(TreeNode('MI'))\n",
    "    tv.add_child(TreeNode('Sony'))\n",
    "\n",
    "    laptop = TreeNode('Laptop')\n",
    "    laptop.add_child(TreeNode('apple'))\n",
    "    laptop.add_child(TreeNode('lenovo'))\n",
    "\n",
    "    root.add_child(tv)\n",
    "    root.add_child(laptop)\n",
    "\n",
    "    return root"
   ]
  },
  {
   "cell_type": "code",
   "execution_count": 73,
   "metadata": {},
   "outputs": [
    {
     "name": "stdout",
     "output_type": "stream",
     "text": [
      "electronics\n",
      "|--television\n",
      "|--|--samsung\n",
      "|--|--MI\n",
      "|--|--Sony\n",
      "|--Laptop\n",
      "|--|--apple\n",
      "|--|--lenovo\n"
     ]
    }
   ],
   "source": [
    "root = build_tree()\n",
    "root.print_tree()"
   ]
  },
  {
   "cell_type": "markdown",
   "metadata": {},
   "source": [
    "# One more example with Tuple as data"
   ]
  },
  {
   "cell_type": "code",
   "execution_count": 88,
   "metadata": {},
   "outputs": [],
   "source": [
    "class CompanyTreeNode:\n",
    "    def __init__(self, data):\n",
    "        self.data = data\n",
    "        self.children = []\n",
    "        self.parent = None\n",
    "        \n",
    "    def add_child(self, child):\n",
    "        child.parent = self\n",
    "        self.children.append(child)\n",
    "    \n",
    "    def print_tree(self, way_to_print):\n",
    "        level = self.get_node_level()\n",
    "        struct = '|--' * level\n",
    "        if way_to_print == 'both':\n",
    "            print(struct + self.data[0] +' '+self.data[1])\n",
    "            if self.children:\n",
    "                for child in self.children:\n",
    "                    child.print_tree(way_to_print)\n",
    "        elif way_to_print == 'designation':\n",
    "            print(struct + self.data[1])\n",
    "            if self.children:\n",
    "                for child in self.children:\n",
    "                    child.print_tree(way_to_print)\n",
    "        else:\n",
    "            print(struct + self.data[0])\n",
    "            if self.children:\n",
    "                for child in self.children:\n",
    "                    child.print_tree(way_to_print)\n",
    "    \n",
    "    def get_node_level(self):\n",
    "        level = 0\n",
    "        while self.parent:\n",
    "            level += 1\n",
    "            self = self.parent\n",
    "        return level\n",
    "        \n",
    "        \n",
    "def build_tree():\n",
    "    ceo = CompanyTreeNode(('nilupul', 'CEO'))\n",
    "\n",
    "    cto = CompanyTreeNode(('Chinmay', 'CTO'))\n",
    "    \n",
    "    ih = CompanyTreeNode(('Vishwa', 'Infra head'))\n",
    "    \n",
    "    clm = CompanyTreeNode(('Rohit', 'cloud manager'))\n",
    "    appm = CompanyTreeNode(('abhijit', 'app manager'))\n",
    "    \n",
    "    ah = CompanyTreeNode(('Aamir', 'App Head'))\n",
    "    \n",
    "    hh = CompanyTreeNode(('gels', 'HR Head'))\n",
    "    \n",
    "    rm = CompanyTreeNode(('Peter', 'Recurit manager'))\n",
    "    pm = CompanyTreeNode(('waqas', 'Policy manager'))\n",
    "    \n",
    "    ceo.add_child(cto)\n",
    "    ceo.add_child(hh)\n",
    "    \n",
    "    cto.add_child(ih)\n",
    "    cto.add_child(ah)\n",
    "    \n",
    "    ih.add_child(clm)\n",
    "    ih.add_child(appm)\n",
    "    \n",
    "    hh.add_child(rm)\n",
    "    hh.add_child(pm)\n",
    "    \n",
    "    return ceo"
   ]
  },
  {
   "cell_type": "code",
   "execution_count": 89,
   "metadata": {},
   "outputs": [],
   "source": [
    "root = build_tree()"
   ]
  },
  {
   "cell_type": "code",
   "execution_count": 95,
   "metadata": {},
   "outputs": [
    {
     "name": "stdout",
     "output_type": "stream",
     "text": [
      "nilupul\n",
      "|--Chinmay\n",
      "|--|--Vishwa\n",
      "|--|--|--Rohit\n",
      "|--|--|--abhijit\n",
      "|--|--Aamir\n",
      "|--gels\n",
      "|--|--Peter\n",
      "|--|--waqas\n"
     ]
    }
   ],
   "source": [
    "root.print_tree('name')"
   ]
  },
  {
   "cell_type": "code",
   "execution_count": 96,
   "metadata": {},
   "outputs": [
    {
     "name": "stdout",
     "output_type": "stream",
     "text": [
      "CEO\n",
      "|--CTO\n",
      "|--|--Infra head\n",
      "|--|--|--cloud manager\n",
      "|--|--|--app manager\n",
      "|--|--App Head\n",
      "|--HR Head\n",
      "|--|--Recurit manager\n",
      "|--|--Policy manager\n"
     ]
    }
   ],
   "source": [
    "root.print_tree('designation')"
   ]
  },
  {
   "cell_type": "code",
   "execution_count": 97,
   "metadata": {},
   "outputs": [
    {
     "name": "stdout",
     "output_type": "stream",
     "text": [
      "nilupul CEO\n",
      "|--Chinmay CTO\n",
      "|--|--Vishwa Infra head\n",
      "|--|--|--Rohit cloud manager\n",
      "|--|--|--abhijit app manager\n",
      "|--|--Aamir App Head\n",
      "|--gels HR Head\n",
      "|--|--Peter Recurit manager\n",
      "|--|--waqas Policy manager\n"
     ]
    }
   ],
   "source": [
    "root.print_tree('both')"
   ]
  },
  {
   "cell_type": "code",
   "execution_count": null,
   "metadata": {},
   "outputs": [],
   "source": []
  }
 ],
 "metadata": {
  "kernelspec": {
   "display_name": "Python 3",
   "language": "python",
   "name": "python3"
  },
  "language_info": {
   "codemirror_mode": {
    "name": "ipython",
    "version": 3
   },
   "file_extension": ".py",
   "mimetype": "text/x-python",
   "name": "python",
   "nbconvert_exporter": "python",
   "pygments_lexer": "ipython3",
   "version": "3.8.5"
  }
 },
 "nbformat": 4,
 "nbformat_minor": 4
}
