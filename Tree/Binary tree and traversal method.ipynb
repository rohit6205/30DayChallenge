{
 "cells": [
  {
   "cell_type": "code",
   "execution_count": 36,
   "metadata": {},
   "outputs": [],
   "source": [
    "class BSTNode:\n",
    "    def __init__(self, data):\n",
    "        self.data = data\n",
    "        self.left = None\n",
    "        self.right = None\n",
    "    \n",
    "    def add_left_child(self, child):\n",
    "        self.left = child\n",
    "    \n",
    "    def add_right_child(self, child):\n",
    "        self.right = child\n",
    "    \n",
    "    def get_level(self):\n",
    "        pass\n",
    "        \n",
    "    def in_order(self):\n",
    "        if self.left:\n",
    "            self.left.in_order()\n",
    "            \n",
    "        print(self.data)\n",
    "        \n",
    "        if self.right:\n",
    "            self.right.in_order()\n",
    "            \n",
    "    def pre_order(self):\n",
    "        \n",
    "        print(self.data)\n",
    "        \n",
    "        if self.left:\n",
    "            self.left.pre_order()\n",
    "            \n",
    "        if self.right:\n",
    "            self.right.pre_order()\n",
    "    \n",
    "    def post_order(self):\n",
    "        \n",
    "        if self.left:\n",
    "            self.left.post_order()\n",
    "        \n",
    "        if self.right:\n",
    "            self.right.post_order()\n",
    "            \n",
    "        print(self.data)"
   ]
  },
  {
   "cell_type": "code",
   "execution_count": 37,
   "metadata": {},
   "outputs": [],
   "source": [
    "def buildTree():\n",
    "    one = BSTNode(1)\n",
    "    two = BSTNode(2)\n",
    "    three = BSTNode(3)\n",
    "    four = BSTNode(4)\n",
    "    \n",
    "    one.add_left_child(two)\n",
    "    one.add_right_child(three)\n",
    "    \n",
    "    two.add_right_child(four)\n",
    "    \n",
    "    return one"
   ]
  },
  {
   "cell_type": "code",
   "execution_count": 38,
   "metadata": {},
   "outputs": [],
   "source": [
    "root = buildTree()"
   ]
  },
  {
   "cell_type": "code",
   "execution_count": 39,
   "metadata": {},
   "outputs": [
    {
     "name": "stdout",
     "output_type": "stream",
     "text": [
      "2\n",
      "4\n",
      "1\n",
      "3\n"
     ]
    }
   ],
   "source": [
    "root.in_order()"
   ]
  },
  {
   "cell_type": "code",
   "execution_count": 40,
   "metadata": {
    "scrolled": false
   },
   "outputs": [
    {
     "name": "stdout",
     "output_type": "stream",
     "text": [
      "1\n",
      "2\n",
      "4\n",
      "3\n"
     ]
    }
   ],
   "source": [
    "root.pre_order()"
   ]
  },
  {
   "cell_type": "code",
   "execution_count": 41,
   "metadata": {},
   "outputs": [
    {
     "name": "stdout",
     "output_type": "stream",
     "text": [
      "4\n",
      "2\n",
      "3\n",
      "1\n"
     ]
    }
   ],
   "source": [
    "root.post_order()"
   ]
  },
  {
   "cell_type": "code",
   "execution_count": null,
   "metadata": {},
   "outputs": [],
   "source": []
  }
 ],
 "metadata": {
  "kernelspec": {
   "display_name": "Python 3",
   "language": "python",
   "name": "python3"
  },
  "language_info": {
   "codemirror_mode": {
    "name": "ipython",
    "version": 3
   },
   "file_extension": ".py",
   "mimetype": "text/x-python",
   "name": "python",
   "nbconvert_exporter": "python",
   "pygments_lexer": "ipython3",
   "version": "3.8.5"
  }
 },
 "nbformat": 4,
 "nbformat_minor": 4
}
