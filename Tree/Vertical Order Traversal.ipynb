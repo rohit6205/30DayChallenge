{
 "cells": [
  {
   "cell_type": "code",
   "execution_count": 25,
   "metadata": {},
   "outputs": [],
   "source": [
    "class TreeNode:\n",
    "    def __init__(self, data):\n",
    "        self.data = data\n",
    "        self.left = None\n",
    "        self.right = None"
   ]
  },
  {
   "cell_type": "code",
   "execution_count": 26,
   "metadata": {},
   "outputs": [],
   "source": [
    "root = TreeNode(1)\n",
    "root.left = TreeNode(2)\n",
    "root.right = TreeNode(3)\n",
    "\n",
    "root.left.left = TreeNode(4)\n",
    "root.left.right = TreeNode(10)\n",
    "root.left.left.right = TreeNode(5)\n",
    "root.left.left.right.right = TreeNode(6)\n",
    "\n",
    "root.right.left = TreeNode(9)\n",
    "root.right.right = TreeNode(10)"
   ]
  },
  {
   "cell_type": "code",
   "execution_count": 27,
   "metadata": {},
   "outputs": [],
   "source": [
    "class TreeUtility:\n",
    "    \n",
    "    def vertical_order_traversal(self, root):\n",
    "        \n",
    "        queue = list()\n",
    "        result = dict()\n",
    "        \n",
    "        if root != None:\n",
    "            queue.append([root, 0, 0])\n",
    "        else:\n",
    "            return result\n",
    "        \n",
    "        while(len(queue)):\n",
    "\n",
    "            item = queue.pop(0)\n",
    "            node = item[0]\n",
    "            x_vertical = item[1]\n",
    "            y_level = item[2]\n",
    "            \n",
    "            if result.get(x_vertical) is None:\n",
    "                result.update({x_vertical: {y_level: [node.data]}})\n",
    "            else:\n",
    "                try:\n",
    "                    result[x_vertical][y_level].append(node.data)\n",
    "                    result[x_vertical][y_level] = sorted(result[x_vertical][y_level]) ## smaller should be first for same cordinate\n",
    "                except:\n",
    "                    result[x_vertical].update({y_level: [node.data]})\n",
    "            \n",
    "            if node.left:\n",
    "                queue.append([node.left, x_vertical-1, y_level+1])\n",
    "            if node.right:\n",
    "                queue.append([node.right, x_vertical+1, y_level+1])\n",
    "        return result"
   ]
  },
  {
   "cell_type": "code",
   "execution_count": 28,
   "metadata": {},
   "outputs": [
    {
     "data": {
      "text/plain": [
       "{0: {0: [1], 2: [9, 10], 4: [6]},\n",
       " -1: {1: [2], 3: [5]},\n",
       " 1: {1: [3]},\n",
       " -2: {2: [4]},\n",
       " 2: {2: [10]}}"
      ]
     },
     "execution_count": 28,
     "metadata": {},
     "output_type": "execute_result"
    }
   ],
   "source": [
    "ut = TreeUtility()\n",
    "ut.vertical_order_traversal(root)"
   ]
  },
  {
   "cell_type": "code",
   "execution_count": null,
   "metadata": {},
   "outputs": [],
   "source": []
  }
 ],
 "metadata": {
  "kernelspec": {
   "display_name": "Python 3",
   "language": "python",
   "name": "python3"
  },
  "language_info": {
   "codemirror_mode": {
    "name": "ipython",
    "version": 3
   },
   "file_extension": ".py",
   "mimetype": "text/x-python",
   "name": "python",
   "nbconvert_exporter": "python",
   "pygments_lexer": "ipython3",
   "version": "3.8.5"
  }
 },
 "nbformat": 4,
 "nbformat_minor": 4
}
