{
 "cells": [
  {
   "cell_type": "code",
   "execution_count": 8,
   "metadata": {},
   "outputs": [],
   "source": [
    "class TreeNode:\n",
    "    def __init__(self, data):\n",
    "        self.data = data\n",
    "        self.left = None\n",
    "        self.right = None"
   ]
  },
  {
   "cell_type": "code",
   "execution_count": 9,
   "metadata": {},
   "outputs": [],
   "source": [
    "root = TreeNode(1)\n",
    "root.left = TreeNode(2)\n",
    "root.right = TreeNode(3)\n",
    "root.left.left = TreeNode(4)\n",
    "root.left.right = TreeNode(5)\n",
    "root.left.right.left = TreeNode(6)\n",
    "root.right.right = TreeNode(7)"
   ]
  },
  {
   "cell_type": "code",
   "execution_count": 10,
   "metadata": {},
   "outputs": [],
   "source": [
    "class TreeUtility:\n",
    "    \n",
    "    def right_view(self, root):\n",
    "        queue = list()\n",
    "        result = dict()\n",
    "        \n",
    "        if root != None:\n",
    "            queue.append([root, 0])\n",
    "        else:\n",
    "            return result\n",
    "        \n",
    "        while len(queue):\n",
    "            item = queue.pop(0)\n",
    "            node = item[0]\n",
    "            level = item[1]\n",
    "            \n",
    "            result.update({level: node.data})\n",
    "            \n",
    "            if node.left:\n",
    "                queue.append([node.left, level+1])\n",
    "                \n",
    "            if node.right:\n",
    "                queue.append([node.right, level+1])\n",
    "            \n",
    "        return dict(sorted(result.items()))\n",
    "    \n",
    "    def left_view(self, root):\n",
    "        queue = list()\n",
    "        result = dict()\n",
    "        \n",
    "        if root != None:\n",
    "            queue.append([root, 0])\n",
    "        else:\n",
    "            return result\n",
    "        \n",
    "        while len(queue):\n",
    "            item = queue.pop(0)\n",
    "            node = item[0]\n",
    "            level = item[1]\n",
    "            \n",
    "            result.update({level: node.data})\n",
    "            \n",
    "            if node.right:\n",
    "                queue.append([node.right, level+1])\n",
    "                \n",
    "            if node.left:\n",
    "                queue.append([node.left, level+1])\n",
    "            \n",
    "        return dict(sorted(result.items()))"
   ]
  },
  {
   "cell_type": "code",
   "execution_count": 11,
   "metadata": {},
   "outputs": [
    {
     "name": "stdout",
     "output_type": "stream",
     "text": [
      "Right View -  {0: 1, 1: 3, 2: 7, 3: 6}\n",
      "Left View -  {0: 1, 1: 2, 2: 4, 3: 6}\n"
     ]
    }
   ],
   "source": [
    "ut = TreeUtility()\n",
    "print(\"Right View - \", ut.right_view(root))\n",
    "print(\"Left View - \", ut.left_view(root))"
   ]
  },
  {
   "cell_type": "code",
   "execution_count": null,
   "metadata": {},
   "outputs": [],
   "source": []
  }
 ],
 "metadata": {
  "kernelspec": {
   "display_name": "Python 3",
   "language": "python",
   "name": "python3"
  },
  "language_info": {
   "codemirror_mode": {
    "name": "ipython",
    "version": 3
   },
   "file_extension": ".py",
   "mimetype": "text/x-python",
   "name": "python",
   "nbconvert_exporter": "python",
   "pygments_lexer": "ipython3",
   "version": "3.8.5"
  }
 },
 "nbformat": 4,
 "nbformat_minor": 4
}
