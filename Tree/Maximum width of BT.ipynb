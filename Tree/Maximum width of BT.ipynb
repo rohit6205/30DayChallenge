{
 "cells": [
  {
   "cell_type": "code",
   "execution_count": 86,
   "metadata": {},
   "outputs": [],
   "source": [
    "from collections import deque\n",
    "\n",
    "class TreeNode:\n",
    "    def __init__(self, data):\n",
    "        self.data = data\n",
    "        self.left = None\n",
    "        self.right = None"
   ]
  },
  {
   "cell_type": "code",
   "execution_count": 87,
   "metadata": {},
   "outputs": [],
   "source": [
    "class Pair:\n",
    "    def __init__(self, node, index):\n",
    "        self.node = node\n",
    "        self.index = index"
   ]
  },
  {
   "cell_type": "code",
   "execution_count": 88,
   "metadata": {},
   "outputs": [],
   "source": [
    "root = TreeNode(1)\n",
    "root.left = TreeNode(3)\n",
    "root.right = TreeNode(7)\n",
    "root.left.left = TreeNode(8)\n",
    "root.right.right = TreeNode(4)"
   ]
  },
  {
   "cell_type": "code",
   "execution_count": 93,
   "metadata": {},
   "outputs": [],
   "source": [
    "class TreeUtility:\n",
    "    \n",
    "    def get_max_width(self, root):\n",
    "        \n",
    "        width = 0\n",
    "        \n",
    "        if root is None:\n",
    "            return width\n",
    "        \n",
    "        queue = deque()\n",
    "        queue.append(Pair(root, 0))\n",
    "        \n",
    "        while len(queue):\n",
    "            q_size = len(queue)\n",
    "            \n",
    "            first_index = queue[0].index\n",
    "            last_index = queue[-1].index\n",
    "    \n",
    "            width = max(width, last_index - first_index + 1)\n",
    "            \n",
    "            for q in range(q_size):\n",
    "                item = queue.popleft()\n",
    "                node = item.node\n",
    "                index = item.index\n",
    "                \n",
    "                if node.left:\n",
    "                    queue.append(Pair(node.left, (2*index)+1-1))\n",
    "                   \n",
    "                \n",
    "                if node.right:\n",
    "                    queue.append(Pair(node.right, (2*index)+2-1))\n",
    "            \n",
    "        return width"
   ]
  },
  {
   "cell_type": "code",
   "execution_count": 94,
   "metadata": {},
   "outputs": [
    {
     "data": {
      "text/plain": [
       "4"
      ]
     },
     "execution_count": 94,
     "metadata": {},
     "output_type": "execute_result"
    }
   ],
   "source": [
    "ut = TreeUtility()\n",
    "ut.get_max_width(root)"
   ]
  },
  {
   "cell_type": "code",
   "execution_count": null,
   "metadata": {},
   "outputs": [],
   "source": []
  }
 ],
 "metadata": {
  "kernelspec": {
   "display_name": "Python 3",
   "language": "python",
   "name": "python3"
  },
  "language_info": {
   "codemirror_mode": {
    "name": "ipython",
    "version": 3
   },
   "file_extension": ".py",
   "mimetype": "text/x-python",
   "name": "python",
   "nbconvert_exporter": "python",
   "pygments_lexer": "ipython3",
   "version": "3.8.5"
  }
 },
 "nbformat": 4,
 "nbformat_minor": 4
}
