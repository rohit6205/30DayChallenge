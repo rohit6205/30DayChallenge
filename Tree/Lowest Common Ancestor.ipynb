{
 "cells": [
  {
   "cell_type": "code",
   "execution_count": 35,
   "metadata": {},
   "outputs": [],
   "source": [
    "class TreeNode:\n",
    "    def __init__(self, data):\n",
    "        self.data = data\n",
    "        self.left = None\n",
    "        self.right = None"
   ]
  },
  {
   "cell_type": "code",
   "execution_count": 36,
   "metadata": {},
   "outputs": [],
   "source": [
    "root = TreeNode(1)\n",
    "root.left = TreeNode(2)\n",
    "root.right = TreeNode(3)\n",
    "root.right.left = TreeNode(4)\n",
    "root.right.right = TreeNode(5)\n",
    "root.right.left.left = TreeNode(8)\n",
    "root.right.right.left = TreeNode(6)\n",
    "root.right.right.right = TreeNode(7)"
   ]
  },
  {
   "cell_type": "code",
   "execution_count": 39,
   "metadata": {},
   "outputs": [],
   "source": [
    "class TreeUtility:\n",
    "    \n",
    "    def get_lca(self, node, node1, node2):\n",
    "        \n",
    "        if node == None:\n",
    "            return None\n",
    "        \n",
    "        if node.data == node1 or node.data == node2:\n",
    "            return node.data\n",
    "        \n",
    "        val1 = self.get_lca(node.left, node1, node2)\n",
    "        val2 = self.get_lca(node.right, node1, node2)\n",
    "        \n",
    "        if val1 == None:\n",
    "            return val2 \n",
    "        elif val2 == None:\n",
    "            return val1\n",
    "        else:\n",
    "            return node.data"
   ]
  },
  {
   "cell_type": "code",
   "execution_count": 40,
   "metadata": {},
   "outputs": [
    {
     "data": {
      "text/plain": [
       "3"
      ]
     },
     "execution_count": 40,
     "metadata": {},
     "output_type": "execute_result"
    }
   ],
   "source": [
    "ut = TreeUtility()\n",
    "ut.get_lca(root, 8, 7)"
   ]
  },
  {
   "cell_type": "code",
   "execution_count": null,
   "metadata": {},
   "outputs": [],
   "source": []
  }
 ],
 "metadata": {
  "kernelspec": {
   "display_name": "Python 3",
   "language": "python",
   "name": "python3"
  },
  "language_info": {
   "codemirror_mode": {
    "name": "ipython",
    "version": 3
   },
   "file_extension": ".py",
   "mimetype": "text/x-python",
   "name": "python",
   "nbconvert_exporter": "python",
   "pygments_lexer": "ipython3",
   "version": "3.8.5"
  }
 },
 "nbformat": 4,
 "nbformat_minor": 4
}
