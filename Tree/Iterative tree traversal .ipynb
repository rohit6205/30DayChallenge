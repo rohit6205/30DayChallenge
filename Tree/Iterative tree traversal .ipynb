{
 "cells": [
  {
   "cell_type": "code",
   "execution_count": 79,
   "metadata": {},
   "outputs": [],
   "source": [
    "import copy"
   ]
  },
  {
   "cell_type": "code",
   "execution_count": 80,
   "metadata": {},
   "outputs": [],
   "source": [
    "class TreeNode:\n",
    "    def __init__(self, data):\n",
    "        self.data = data\n",
    "        self.left = None\n",
    "        self.right = None"
   ]
  },
  {
   "cell_type": "code",
   "execution_count": 81,
   "metadata": {},
   "outputs": [],
   "source": [
    "class TreeUtility:\n",
    "    def __init__(self):\n",
    "        pass\n",
    "    \n",
    "    def pre_order_traversal(self, root):\n",
    "        \n",
    "        preorder = list()\n",
    "        if root == None:\n",
    "            return preorder\n",
    "        \n",
    "        st = list()\n",
    "        st.append(root)\n",
    "        while(st):\n",
    "            node = st.pop()\n",
    "            \n",
    "            preorder.append(node.data)\n",
    "            if node.right:\n",
    "                st.append(node.right)\n",
    "            if node.left:\n",
    "                st.append(node.left)\n",
    "        return preorder\n",
    "    \n",
    "    def in_order_traversal(self, root):\n",
    "        inorder = list()\n",
    "        node = copy.deepcopy(root)\n",
    "        st = list()\n",
    "#         st.append(node)\n",
    "        while True:\n",
    "            if node != None:\n",
    "                st.append(node)\n",
    "                node = node.left\n",
    "            else:\n",
    "                if not st:\n",
    "                    break\n",
    "                node = st.pop()\n",
    "                inorder.append(node.data)\n",
    "                node = node.right\n",
    "        return inorder\n",
    "    \n",
    "    def post_order_traversal(self, root):\n",
    "        ## using 2 stack\n",
    "        \n",
    "        st1 = list()\n",
    "        st2 = list()\n",
    "        \n",
    "        if root == None:\n",
    "            return []\n",
    "        st1.append(root)\n",
    "        while(st1):\n",
    "            node = st1.pop()\n",
    "            st2.append(node.data)\n",
    "            if node.left:\n",
    "                st1.append(node.left)\n",
    "            if node.right:\n",
    "                st1.append(node.right)\n",
    "                \n",
    "        return st2[::-1]"
   ]
  },
  {
   "cell_type": "markdown",
   "metadata": {},
   "source": [
    "                          ( 1 )\n",
    "                        /      \\\n",
    "                       (2)      (3)\n",
    "                       /  \\       \n",
    "                      (4)  (5)\n",
    "                           /  \\\n",
    "                         (6)   (7)"
   ]
  },
  {
   "cell_type": "code",
   "execution_count": 82,
   "metadata": {},
   "outputs": [],
   "source": [
    "root = TreeNode(1)\n",
    "root.left = TreeNode(2)\n",
    "root.right = TreeNode(3)\n",
    "\n",
    "root.left.left = TreeNode(4)\n",
    "root.left.right = TreeNode(5)\n",
    "\n",
    "root.left.right.left = TreeNode(6)\n",
    "root.left.right.right = TreeNode(7)\n",
    "\n",
    "\n",
    "# root = TreeNode(1)\n",
    "# root.left = TreeNode(2)\n",
    "# root.right = TreeNode(3)\n",
    "\n",
    "# root.left.left = TreeNode(4)\n",
    "# root.left.right = TreeNode(5)\n",
    "\n",
    "# root.right.left = TreeNode(6)\n",
    "# root.right.left.right = TreeNode(7)\n",
    "# root.right.left.right.right = TreeNode(8)"
   ]
  },
  {
   "cell_type": "code",
   "execution_count": 83,
   "metadata": {},
   "outputs": [
    {
     "name": "stdout",
     "output_type": "stream",
     "text": [
      "[1, 2, 4, 5, 6, 7, 3]\n"
     ]
    }
   ],
   "source": [
    "uti = TreeUtility()\n",
    "\n",
    "print(uti.pre_order_traversal(root))"
   ]
  },
  {
   "cell_type": "code",
   "execution_count": 84,
   "metadata": {},
   "outputs": [
    {
     "name": "stdout",
     "output_type": "stream",
     "text": [
      "[4, 2, 6, 5, 7, 1, 3]\n"
     ]
    }
   ],
   "source": [
    "print(uti.in_order_traversal(root))"
   ]
  },
  {
   "cell_type": "code",
   "execution_count": 85,
   "metadata": {},
   "outputs": [
    {
     "name": "stdout",
     "output_type": "stream",
     "text": [
      "[4, 6, 7, 5, 2, 3, 1]\n"
     ]
    }
   ],
   "source": [
    "print(uti.post_order_traversal(root))"
   ]
  },
  {
   "cell_type": "code",
   "execution_count": null,
   "metadata": {},
   "outputs": [],
   "source": []
  }
 ],
 "metadata": {
  "kernelspec": {
   "display_name": "Python 3",
   "language": "python",
   "name": "python3"
  },
  "language_info": {
   "codemirror_mode": {
    "name": "ipython",
    "version": 3
   },
   "file_extension": ".py",
   "mimetype": "text/x-python",
   "name": "python",
   "nbconvert_exporter": "python",
   "pygments_lexer": "ipython3",
   "version": "3.8.5"
  }
 },
 "nbformat": 4,
 "nbformat_minor": 4
}
