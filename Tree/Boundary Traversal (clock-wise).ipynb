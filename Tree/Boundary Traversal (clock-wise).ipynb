{
 "cells": [
  {
   "cell_type": "code",
   "execution_count": 17,
   "metadata": {},
   "outputs": [],
   "source": [
    "class TreeNode:\n",
    "    def __init__(self, data):\n",
    "        self.data = data\n",
    "        self.left = None\n",
    "        self.right = None"
   ]
  },
  {
   "cell_type": "code",
   "execution_count": 18,
   "metadata": {},
   "outputs": [],
   "source": [
    "root = TreeNode(1)\n",
    "\n",
    "root.left = TreeNode(2)\n",
    "root.left.left = TreeNode(3)\n",
    "root.left.left.right = TreeNode(4)\n",
    "root.left.left.right.left = TreeNode(5)\n",
    "root.left.left.right.right = TreeNode(6)\n",
    "\n",
    "root.right = TreeNode(7)\n",
    "root.right.right = TreeNode(8)\n",
    "root.right.right.left = TreeNode(9)\n",
    "root.right.right.left.left = TreeNode(10)\n",
    "root.right.right.left.right = TreeNode(11)"
   ]
  },
  {
   "cell_type": "code",
   "execution_count": 21,
   "metadata": {},
   "outputs": [],
   "source": [
    "class TreeUtility:\n",
    "    \n",
    "    def boundary_traversal(self, root):\n",
    "        result = list()\n",
    "        if root != None:\n",
    "            result.append(root.data)\n",
    "        else:\n",
    "            return result \n",
    "        self.left_nodes(root.left, result)\n",
    "        self.leaf_nodes(root, result)\n",
    "        self.right_nodes(root.right, result)\n",
    "        return result\n",
    "    \n",
    "    def left_nodes(self, node, result):\n",
    "        if node.left:\n",
    "            result.append(node.data)\n",
    "            self.left_nodes(node.left, result)\n",
    "        elif node.right:\n",
    "            result.append(node.data)\n",
    "            self.left_nodes(node.right, result)\n",
    "        return \n",
    "    \n",
    "    def leaf_nodes(self, node, result):\n",
    "        if node == None:\n",
    "            return\n",
    "        \n",
    "        if node.left == None and node.right == None:\n",
    "            result.append(node.data)\n",
    "        if node.left:\n",
    "            self.leaf_nodes(node.left, result)\n",
    "        if node.right:\n",
    "            self.leaf_nodes(node.right, result)\n",
    "        return \n",
    "    \n",
    "    def right_nodes(self, node, result):\n",
    "        if node.right:\n",
    "            self.right_nodes(node.right, result)\n",
    "            result.append(node.data)\n",
    "        elif node.left:\n",
    "            self.right_nodes(node.left, result)\n",
    "            result.append(node.data)\n",
    "        return "
   ]
  },
  {
   "cell_type": "code",
   "execution_count": 22,
   "metadata": {},
   "outputs": [
    {
     "data": {
      "text/plain": [
       "[1, 2, 3, 4, 5, 6, 10, 11, 9, 8, 7]"
      ]
     },
     "execution_count": 22,
     "metadata": {},
     "output_type": "execute_result"
    }
   ],
   "source": [
    "ut = TreeUtility()\n",
    "ut.boundary_traversal(root)"
   ]
  },
  {
   "cell_type": "code",
   "execution_count": null,
   "metadata": {},
   "outputs": [],
   "source": []
  }
 ],
 "metadata": {
  "kernelspec": {
   "display_name": "Python 3",
   "language": "python",
   "name": "python3"
  },
  "language_info": {
   "codemirror_mode": {
    "name": "ipython",
    "version": 3
   },
   "file_extension": ".py",
   "mimetype": "text/x-python",
   "name": "python",
   "nbconvert_exporter": "python",
   "pygments_lexer": "ipython3",
   "version": "3.8.5"
  }
 },
 "nbformat": 4,
 "nbformat_minor": 4
}
