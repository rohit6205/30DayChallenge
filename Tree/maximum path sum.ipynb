{
 "cells": [
  {
   "cell_type": "code",
   "execution_count": 9,
   "metadata": {},
   "outputs": [],
   "source": [
    "class TreeNode:\n",
    "    def __init__(self, data):\n",
    "        self.data = data\n",
    "        self.left = None\n",
    "        self.right = None"
   ]
  },
  {
   "cell_type": "code",
   "execution_count": 15,
   "metadata": {},
   "outputs": [],
   "source": [
    "root = TreeNode(-10)\n",
    "root.left = TreeNode(9)\n",
    "root.right = TreeNode(20)\n",
    "root.right.left = TreeNode(15)\n",
    "root.right.right = TreeNode(7)\n",
    "root.right.right.right = TreeNode(8)"
   ]
  },
  {
   "cell_type": "code",
   "execution_count": 16,
   "metadata": {},
   "outputs": [],
   "source": [
    "class TreeUtility:\n",
    "    def __init__(self):\n",
    "        pass\n",
    "    \n",
    "    def get_max_path_sum(self, node):\n",
    "        maxi_sum = [0]\n",
    "        self.cal_max_path_sum(node, maxi_sum)\n",
    "        return maxi_sum[0]\n",
    "        \n",
    "    def cal_max_path_sum(self, node, max_sum):\n",
    "        \n",
    "        if node == None:\n",
    "            return 0\n",
    "        \n",
    "        lh = self.cal_max_path_sum(node.left, max_sum)\n",
    "        rh = self.cal_max_path_sum(node.right, max_sum)\n",
    "        \n",
    "        max_sum[0] = max(max_sum[0], lh+rh+node.data)\n",
    "        \n",
    "        return node.data + max(lh, rh)"
   ]
  },
  {
   "cell_type": "code",
   "execution_count": 17,
   "metadata": {},
   "outputs": [
    {
     "name": "stdout",
     "output_type": "stream",
     "text": [
      "50\n"
     ]
    }
   ],
   "source": [
    "ut = TreeUtility()\n",
    "print(ut.get_max_path_sum(root))"
   ]
  },
  {
   "cell_type": "code",
   "execution_count": null,
   "metadata": {},
   "outputs": [],
   "source": []
  }
 ],
 "metadata": {
  "kernelspec": {
   "display_name": "Python 3",
   "language": "python",
   "name": "python3"
  },
  "language_info": {
   "codemirror_mode": {
    "name": "ipython",
    "version": 3
   },
   "file_extension": ".py",
   "mimetype": "text/x-python",
   "name": "python",
   "nbconvert_exporter": "python",
   "pygments_lexer": "ipython3",
   "version": "3.8.5"
  }
 },
 "nbformat": 4,
 "nbformat_minor": 4
}
