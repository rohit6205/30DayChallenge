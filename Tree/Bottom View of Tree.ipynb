{
 "cells": [
  {
   "cell_type": "code",
   "execution_count": 1,
   "metadata": {},
   "outputs": [],
   "source": [
    "class TreeNode:\n",
    "    def __init__(self, data):\n",
    "        self.data = data\n",
    "        self.left = None\n",
    "        self.right = None"
   ]
  },
  {
   "cell_type": "code",
   "execution_count": 2,
   "metadata": {},
   "outputs": [],
   "source": [
    "root = TreeNode(1)\n",
    "root.left = TreeNode(2)\n",
    "root.right = TreeNode(3)\n",
    "root.left.left = TreeNode(4)\n",
    "root.left.right = TreeNode(5)\n",
    "root.left.right.left = TreeNode(6)\n",
    "root.right.right = TreeNode(7)"
   ]
  },
  {
   "cell_type": "code",
   "execution_count": 3,
   "metadata": {},
   "outputs": [],
   "source": [
    "class TreeUtility:\n",
    "    \n",
    "    def bottom_view(self, root):\n",
    "        queue = list()\n",
    "        result = dict()\n",
    "        \n",
    "        if root != None:\n",
    "            queue.append([root, 0])\n",
    "        else:\n",
    "            return result\n",
    "        \n",
    "        while len(queue):\n",
    "            item = queue.pop(0)\n",
    "            node = item[0]\n",
    "            vertical_x = item[1]\n",
    "            \n",
    "            result.update({vertical_x: node.data})\n",
    "            \n",
    "            if node.left:\n",
    "                queue.append([node.left, vertical_x-1])\n",
    "            if node.right:\n",
    "                queue.append([node.right, vertical_x+1])\n",
    "        return dict(sorted(result.items()))"
   ]
  },
  {
   "cell_type": "code",
   "execution_count": 5,
   "metadata": {},
   "outputs": [
    {
     "data": {
      "text/plain": [
       "{-2: 4, -1: 6, 0: 5, 1: 3, 2: 7}"
      ]
     },
     "execution_count": 5,
     "metadata": {},
     "output_type": "execute_result"
    }
   ],
   "source": [
    "ut = TreeUtility()\n",
    "ut.bottom_view(root)"
   ]
  },
  {
   "cell_type": "code",
   "execution_count": null,
   "metadata": {},
   "outputs": [],
   "source": []
  }
 ],
 "metadata": {
  "kernelspec": {
   "display_name": "Python 3",
   "language": "python",
   "name": "python3"
  },
  "language_info": {
   "codemirror_mode": {
    "name": "ipython",
    "version": 3
   },
   "file_extension": ".py",
   "mimetype": "text/x-python",
   "name": "python",
   "nbconvert_exporter": "python",
   "pygments_lexer": "ipython3",
   "version": "3.8.5"
  }
 },
 "nbformat": 4,
 "nbformat_minor": 4
}
