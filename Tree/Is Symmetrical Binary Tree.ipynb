{
 "cells": [
  {
   "cell_type": "code",
   "execution_count": 22,
   "metadata": {},
   "outputs": [],
   "source": [
    "class TreeNode:\n",
    "    def __init__(self, data):\n",
    "        self.data = data\n",
    "        self.left = None\n",
    "        self.right = None"
   ]
  },
  {
   "cell_type": "code",
   "execution_count": 23,
   "metadata": {},
   "outputs": [],
   "source": [
    "root = TreeNode(1)\n",
    "root.right = TreeNode(2)\n",
    "root.left = TreeNode(2)\n",
    "\n",
    "root.right.right = TreeNode(3)\n",
    "root.left.left = TreeNode(3)\n",
    "\n",
    "root.right.left = TreeNode(4)\n",
    "root.left.right = TreeNode(4)\n",
    "\n",
    "root.left.left.left = TreeNode(7)\n",
    "root.right.right.right = TreeNode(7)"
   ]
  },
  {
   "cell_type": "code",
   "execution_count": 24,
   "metadata": {},
   "outputs": [],
   "source": [
    "class TreeUtility:\n",
    "    \n",
    "    def is_symmetrical_tree(self, root):\n",
    "        if root != None:\n",
    "            return self.check_symmetrical_tree(root.left, root.right)\n",
    "        else:\n",
    "            return False\n",
    "    \n",
    "    def check_symmetrical_tree(self, left, right):\n",
    "        if left == None or right == None:\n",
    "            return left==right\n",
    "        \n",
    "        if left.data != right.data:\n",
    "            return False\n",
    "        \n",
    "        return self.check_symmetrical_tree(left.left, right.right) and self.check_symmetrical_tree(left.right, right.left)"
   ]
  },
  {
   "cell_type": "code",
   "execution_count": 25,
   "metadata": {},
   "outputs": [
    {
     "name": "stdout",
     "output_type": "stream",
     "text": [
      "True\n"
     ]
    }
   ],
   "source": [
    "ut = TreeUtility()\n",
    "print(ut.is_symmetrical_tree(root))"
   ]
  },
  {
   "cell_type": "code",
   "execution_count": null,
   "metadata": {},
   "outputs": [],
   "source": []
  }
 ],
 "metadata": {
  "kernelspec": {
   "display_name": "Python 3",
   "language": "python",
   "name": "python3"
  },
  "language_info": {
   "codemirror_mode": {
    "name": "ipython",
    "version": 3
   },
   "file_extension": ".py",
   "mimetype": "text/x-python",
   "name": "python",
   "nbconvert_exporter": "python",
   "pygments_lexer": "ipython3",
   "version": "3.8.5"
  }
 },
 "nbformat": 4,
 "nbformat_minor": 4
}
