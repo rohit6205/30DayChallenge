{
 "cells": [
  {
   "cell_type": "code",
   "execution_count": 16,
   "metadata": {},
   "outputs": [],
   "source": [
    "class TreeNode:\n",
    "    def __init__(self, data):\n",
    "        self.data = data\n",
    "        self.left = None\n",
    "        self.right = None\n",
    "    \n",
    "class TreeUtility:\n",
    "    def __init__(self):\n",
    "        pass\n",
    "    \n",
    "    def pre_order_traversal(self, node):\n",
    "        if node == None:\n",
    "            return None\n",
    "        \n",
    "        print(node.data)\n",
    "        self.pre_order_traversal(node.left)\n",
    "        self.pre_order_traversal(node.right)\n",
    "        \n",
    "        return\n",
    "    \n",
    "    def post_order_traversal(self, node):\n",
    "        if node == None:\n",
    "            return\n",
    "        \n",
    "        self.post_order_traversal(node.left)\n",
    "        self.post_order_traversal(node.right)\n",
    "        print(node.data)\n",
    "        \n",
    "        return\n",
    "    \n",
    "    def in_order_traversal(self, node):\n",
    "        \n",
    "        if node == None:\n",
    "            return\n",
    "        \n",
    "        self.in_order_traversal(node.left)\n",
    "        print(node.data)\n",
    "        self.in_order_traversal(node.right)\n",
    "        \n",
    "        return\n",
    "        \n",
    "    def bsf_traversal(self, root):\n",
    "        ans = list()\n",
    "        temp_q = list()\n",
    "        if root == None:\n",
    "            return ans\n",
    "        \n",
    "        temp_q.append(root)\n",
    "        while(temp_q):\n",
    "            size = len(temp_q)\n",
    "            level = list()\n",
    "            for i in range(size):\n",
    "                node = temp_q.pop(0)\n",
    "                if node.left != None:\n",
    "                    temp_q.append(node.left)\n",
    "                if node.right != None:\n",
    "                    temp_q.append(node.right)\n",
    "                \n",
    "                level.append(node.data)\n",
    "            \n",
    "            ans.append(level)\n",
    "        \n",
    "        return ans"
   ]
  },
  {
   "cell_type": "code",
   "execution_count": 17,
   "metadata": {},
   "outputs": [],
   "source": [
    "root = TreeNode(1)\n",
    "root.left = TreeNode(2)\n",
    "root.left.left = TreeNode(4)\n",
    "root.left.right = TreeNode(5)\n",
    "root.left.right.left = TreeNode(6)\n",
    "\n",
    "root.right = TreeNode(3)\n",
    "root.right.left = TreeNode(7)\n",
    "root.right.right = TreeNode(8)\n",
    "root.right.right.left = TreeNode(9)\n",
    "root.right.right.right = TreeNode(10)"
   ]
  },
  {
   "cell_type": "code",
   "execution_count": 18,
   "metadata": {},
   "outputs": [],
   "source": [
    "utility = TreeUtility()"
   ]
  },
  {
   "cell_type": "code",
   "execution_count": 19,
   "metadata": {},
   "outputs": [
    {
     "name": "stdout",
     "output_type": "stream",
     "text": [
      "1\n",
      "2\n",
      "4\n",
      "5\n",
      "6\n",
      "3\n",
      "7\n",
      "8\n",
      "9\n",
      "10\n"
     ]
    }
   ],
   "source": [
    "utility.pre_order_traversal(root)"
   ]
  },
  {
   "cell_type": "code",
   "execution_count": 20,
   "metadata": {},
   "outputs": [
    {
     "name": "stdout",
     "output_type": "stream",
     "text": [
      "4\n",
      "6\n",
      "5\n",
      "2\n",
      "7\n",
      "9\n",
      "10\n",
      "8\n",
      "3\n",
      "1\n"
     ]
    }
   ],
   "source": [
    "utility.post_order_traversal(root)"
   ]
  },
  {
   "cell_type": "code",
   "execution_count": 21,
   "metadata": {},
   "outputs": [
    {
     "name": "stdout",
     "output_type": "stream",
     "text": [
      "4\n",
      "2\n",
      "6\n",
      "5\n",
      "1\n",
      "7\n",
      "3\n",
      "9\n",
      "8\n",
      "10\n"
     ]
    }
   ],
   "source": [
    "utility.in_order_traversal(root)"
   ]
  },
  {
   "cell_type": "code",
   "execution_count": 22,
   "metadata": {},
   "outputs": [
    {
     "data": {
      "text/plain": [
       "[[1], [2, 3], [4, 5, 7, 8], [6, 9, 10]]"
      ]
     },
     "execution_count": 22,
     "metadata": {},
     "output_type": "execute_result"
    }
   ],
   "source": [
    "utility.bsf_traversal(root)"
   ]
  },
  {
   "cell_type": "code",
   "execution_count": null,
   "metadata": {},
   "outputs": [],
   "source": []
  }
 ],
 "metadata": {
  "kernelspec": {
   "display_name": "Python 3",
   "language": "python",
   "name": "python3"
  },
  "language_info": {
   "codemirror_mode": {
    "name": "ipython",
    "version": 3
   },
   "file_extension": ".py",
   "mimetype": "text/x-python",
   "name": "python",
   "nbconvert_exporter": "python",
   "pygments_lexer": "ipython3",
   "version": "3.8.5"
  }
 },
 "nbformat": 4,
 "nbformat_minor": 4
}
