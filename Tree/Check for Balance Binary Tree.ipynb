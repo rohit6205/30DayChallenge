{
 "cells": [
  {
   "cell_type": "code",
   "execution_count": 23,
   "metadata": {},
   "outputs": [],
   "source": [
    "class TreeNode:\n",
    "    def __init__(self, data):\n",
    "        self.data = data\n",
    "        self.left = None\n",
    "        self.right = None"
   ]
  },
  {
   "cell_type": "code",
   "execution_count": 27,
   "metadata": {},
   "outputs": [],
   "source": [
    "## balanced binary tree\n",
    "root = TreeNode(3)\n",
    "root.left = TreeNode(9)\n",
    "root.right = TreeNode(20)\n",
    "\n",
    "root.right.left = TreeNode(15)\n",
    "root.right.right = TreeNode(7)\n",
    "\n",
    "\n",
    "## not a balanced binary tree\n",
    "# root = TreeNode(1)\n",
    "# root.left = TreeNode(3)\n",
    "# root.right = TreeNode(2)\n",
    "# root.left.left = TreeNode(5)\n",
    "# root.left.right = TreeNode(4)\n",
    "# root.left.left.left = TreeNode(7)\n",
    "# root.left.left.right = TreeNode(6)"
   ]
  },
  {
   "cell_type": "code",
   "execution_count": 28,
   "metadata": {},
   "outputs": [],
   "source": [
    "class TreeUtility:\n",
    "    def __init__(self):\n",
    "        pass\n",
    "    \n",
    "    def is_balanced_tree(self, node):\n",
    "        return True if self.balanced_tree(node) > 0 else False\n",
    "    \n",
    "    def balanced_tree(self, node):\n",
    "        \n",
    "        if node == None:\n",
    "            return 0\n",
    "        \n",
    "        lh = self.balanced_tree(node.left)\n",
    "        rh = self.balanced_tree(node.right)\n",
    "        if rh == -1 or lh == -1:\n",
    "            return -1\n",
    "        if abs(rh-lh) > 1:\n",
    "            return -1\n",
    "        \n",
    "        return 1 + max(lh, rh)"
   ]
  },
  {
   "cell_type": "code",
   "execution_count": 29,
   "metadata": {},
   "outputs": [
    {
     "name": "stdout",
     "output_type": "stream",
     "text": [
      "True\n"
     ]
    }
   ],
   "source": [
    "ut = TreeUtility()\n",
    "print(ut.is_balanced_tree(root))"
   ]
  },
  {
   "cell_type": "code",
   "execution_count": null,
   "metadata": {},
   "outputs": [],
   "source": []
  }
 ],
 "metadata": {
  "kernelspec": {
   "display_name": "Python 3",
   "language": "python",
   "name": "python3"
  },
  "language_info": {
   "codemirror_mode": {
    "name": "ipython",
    "version": 3
   },
   "file_extension": ".py",
   "mimetype": "text/x-python",
   "name": "python",
   "nbconvert_exporter": "python",
   "pygments_lexer": "ipython3",
   "version": "3.8.5"
  }
 },
 "nbformat": 4,
 "nbformat_minor": 4
}
