{
 "cells": [
  {
   "cell_type": "code",
   "execution_count": 5,
   "metadata": {},
   "outputs": [],
   "source": [
    "class TreeNode:\n",
    "    def __init__(self, data):\n",
    "        self.data = data\n",
    "        self.left = None\n",
    "        self.right = None"
   ]
  },
  {
   "cell_type": "code",
   "execution_count": 11,
   "metadata": {},
   "outputs": [],
   "source": [
    "# root = TreeNode(1)\n",
    "# root.left = TreeNode(2)\n",
    "# root.right = TreeNode(3)\n",
    "\n",
    "# root.left.left = TreeNode(4)\n",
    "# root.left.right = TreeNode(5)\n",
    "\n",
    "# root.left.right.left = TreeNode(6)\n",
    "# root.left.right.right = TreeNode(7)\n",
    "\n",
    "root = TreeNode(1)\n",
    "root.left = TreeNode(2)\n",
    "root.right = TreeNode(3)\n",
    "\n",
    "root.left.left = TreeNode(4)\n",
    "root.left.right = TreeNode(5)\n",
    "\n",
    "root.right.left = TreeNode(6)\n",
    "root.right.left.right = TreeNode(7)\n",
    "root.right.left.right.right = TreeNode(8)"
   ]
  },
  {
   "cell_type": "code",
   "execution_count": 12,
   "metadata": {},
   "outputs": [],
   "source": [
    "class TreeUtility:\n",
    "    def __init__(self):\n",
    "        pass\n",
    "    \n",
    "    def max_depth(self, node):\n",
    "        \n",
    "        if node == None:\n",
    "            return 0\n",
    "        \n",
    "        lh = self.max_depth(node.left)\n",
    "        \n",
    "        rh = self.max_depth(node.right)\n",
    "        \n",
    "        return 1 + max(lh, rh)"
   ]
  },
  {
   "cell_type": "code",
   "execution_count": 13,
   "metadata": {},
   "outputs": [
    {
     "name": "stdout",
     "output_type": "stream",
     "text": [
      "5\n"
     ]
    }
   ],
   "source": [
    "ut = TreeUtility()\n",
    "print(ut.max_depth(root))"
   ]
  },
  {
   "cell_type": "code",
   "execution_count": null,
   "metadata": {},
   "outputs": [],
   "source": []
  }
 ],
 "metadata": {
  "kernelspec": {
   "display_name": "Python 3",
   "language": "python",
   "name": "python3"
  },
  "language_info": {
   "codemirror_mode": {
    "name": "ipython",
    "version": 3
   },
   "file_extension": ".py",
   "mimetype": "text/x-python",
   "name": "python",
   "nbconvert_exporter": "python",
   "pygments_lexer": "ipython3",
   "version": "3.8.5"
  }
 },
 "nbformat": 4,
 "nbformat_minor": 4
}
