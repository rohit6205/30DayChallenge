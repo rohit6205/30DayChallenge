{
 "cells": [
  {
   "cell_type": "code",
   "execution_count": 33,
   "metadata": {},
   "outputs": [],
   "source": [
    "class TreeNode:\n",
    "    def __init__(self, data):\n",
    "        self.data = data\n",
    "        self.left = None\n",
    "        self.right = None"
   ]
  },
  {
   "cell_type": "code",
   "execution_count": 34,
   "metadata": {},
   "outputs": [],
   "source": [
    "### diameter = 6\n",
    "# root = TreeNode(1)\n",
    "# root.left = TreeNode(2)\n",
    "# root.right = TreeNode(3)\n",
    "# root.right.left = TreeNode(4)\n",
    "# root.right.right = TreeNode(7)\n",
    "# root.right.left.left = TreeNode(5)\n",
    "# root.right.left.left.left = TreeNode(6)\n",
    "# root.right.right.right = TreeNode(8)\n",
    "# root.right.right.right.right = TreeNode(9)\n",
    "\n",
    "### diameter = 3\n",
    "\n",
    "root = TreeNode(3)\n",
    "root.left = TreeNode(9)\n",
    "root.right = TreeNode(20)\n",
    "\n",
    "root.right.left = TreeNode(15)\n",
    "root.right.right = TreeNode(7)"
   ]
  },
  {
   "cell_type": "code",
   "execution_count": 35,
   "metadata": {},
   "outputs": [],
   "source": [
    "class TreeUtility:\n",
    "    def __init__(self):\n",
    "        pass\n",
    "    \n",
    "    def get_diameter(self, node):\n",
    "        maxi = [0]\n",
    "        self.cal_diameter(node, maxi)\n",
    "        return maxi[0]\n",
    "    \n",
    "    def cal_diameter(self, node, maxi):\n",
    "        \n",
    "        if node == None:\n",
    "            return 0\n",
    "        \n",
    "        lh = self.cal_diameter(node.left, maxi)\n",
    "        rh = self.cal_diameter(node.right, maxi)\n",
    "        \n",
    "        maxi[0] = max(maxi[0], lh+rh)\n",
    "        \n",
    "        return 1 + max(rh, lh)"
   ]
  },
  {
   "cell_type": "code",
   "execution_count": 36,
   "metadata": {},
   "outputs": [
    {
     "name": "stdout",
     "output_type": "stream",
     "text": [
      "3\n"
     ]
    }
   ],
   "source": [
    "ut = TreeUtility()\n",
    "print(ut.get_diameter(root))"
   ]
  },
  {
   "cell_type": "code",
   "execution_count": null,
   "metadata": {},
   "outputs": [],
   "source": []
  }
 ],
 "metadata": {
  "kernelspec": {
   "display_name": "Python 3",
   "language": "python",
   "name": "python3"
  },
  "language_info": {
   "codemirror_mode": {
    "name": "ipython",
    "version": 3
   },
   "file_extension": ".py",
   "mimetype": "text/x-python",
   "name": "python",
   "nbconvert_exporter": "python",
   "pygments_lexer": "ipython3",
   "version": "3.8.5"
  }
 },
 "nbformat": 4,
 "nbformat_minor": 4
}
