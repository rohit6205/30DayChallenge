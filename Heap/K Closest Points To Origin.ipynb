{
 "cells": [
  {
   "cell_type": "markdown",
   "metadata": {},
   "source": [
    "https://www.youtube.com/watch?v=XC4EotTewro&list=PL_z_8CaSLPWdtY9W22VjnPxG30CXNZpI9&index=8"
   ]
  },
  {
   "cell_type": "code",
   "execution_count": 6,
   "metadata": {},
   "outputs": [
    {
     "name": "stdout",
     "output_type": "stream",
     "text": [
      "{2, -2}\n",
      "{0, 1}\n"
     ]
    }
   ],
   "source": [
    "import heapq\n",
    "\n",
    "class HeapUtility:\n",
    "    def get_closest_points_to_origin(self, arr, k):\n",
    "        \"\"\"\n",
    "        Using Max Heap\n",
    "        \"\"\"\n",
    "        heap = []\n",
    "        heapq.heapify(heap)\n",
    "        \n",
    "        for x, y in zip(arr[0], arr[1]):\n",
    "            key = x**2 + y**2\n",
    "            heapq.heappush(heap, (-1*key, {x, y}))\n",
    "            if len(heap) > 2:\n",
    "                heapq.heappop(heap)\n",
    "        \n",
    "        for i in range(len(heap)):\n",
    "            print(heapq.heappop(heap)[1])\n",
    "        \n",
    "        return \n",
    "\n",
    "        \n",
    "if __name__ == \"__main__\":\n",
    "    arr = [[1, -2, 5, 0], [3, 2, 8, 1]]\n",
    "    k = 2\n",
    "    ut = HeapUtility()\n",
    "    ut.get_closest_points_to_origin(arr, k)"
   ]
  },
  {
   "cell_type": "code",
   "execution_count": null,
   "metadata": {},
   "outputs": [],
   "source": []
  }
 ],
 "metadata": {
  "kernelspec": {
   "display_name": "Python 3",
   "language": "python",
   "name": "python3"
  },
  "language_info": {
   "codemirror_mode": {
    "name": "ipython",
    "version": 3
   },
   "file_extension": ".py",
   "mimetype": "text/x-python",
   "name": "python",
   "nbconvert_exporter": "python",
   "pygments_lexer": "ipython3",
   "version": "3.8.5"
  }
 },
 "nbformat": 4,
 "nbformat_minor": 4
}
