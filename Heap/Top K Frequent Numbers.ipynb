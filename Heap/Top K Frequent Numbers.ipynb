{
 "cells": [
  {
   "cell_type": "code",
   "execution_count": 3,
   "metadata": {},
   "outputs": [
    {
     "name": "stdout",
     "output_type": "stream",
     "text": [
      "[2, 1]\n"
     ]
    }
   ],
   "source": [
    "import heapq\n",
    "\n",
    "class HeapUtility:\n",
    "    def get_top_frequent_number(self, arr, k):\n",
    "        \n",
    "        top_frequent_number = []\n",
    "        heap = []\n",
    "        hmap = dict()\n",
    "        heapq.heapify(heap)\n",
    "        for i in arr:\n",
    "            if i not in hmap:\n",
    "                hmap[i] = 1\n",
    "            else:\n",
    "                hmap[i] += 1\n",
    "        \n",
    "        for k, v in hmap.items():\n",
    "            heapq.heappush(heap, (v, k))\n",
    "            if len(heap) > 2:\n",
    "                heapq.heappop(heap)\n",
    "        \n",
    "        for i in range(len(heap)):\n",
    "            top_frequent_number.append(heapq.heappop(heap)[1])\n",
    "        \n",
    "        return top_frequent_number\n",
    "\n",
    "if __name__ == \"__main__\":\n",
    "    arr = [1, 1, 1, 3, 2, 2, 4]\n",
    "    k = 2\n",
    "    ut = HeapUtility()\n",
    "    print(ut.get_top_frequent_number(arr, k))"
   ]
  },
  {
   "cell_type": "code",
   "execution_count": null,
   "metadata": {},
   "outputs": [],
   "source": []
  }
 ],
 "metadata": {
  "kernelspec": {
   "display_name": "Python 3",
   "language": "python",
   "name": "python3"
  },
  "language_info": {
   "codemirror_mode": {
    "name": "ipython",
    "version": 3
   },
   "file_extension": ".py",
   "mimetype": "text/x-python",
   "name": "python",
   "nbconvert_exporter": "python",
   "pygments_lexer": "ipython3",
   "version": "3.8.5"
  }
 },
 "nbformat": 4,
 "nbformat_minor": 4
}
