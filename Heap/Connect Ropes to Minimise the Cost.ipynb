{
 "cells": [
  {
   "cell_type": "code",
   "execution_count": null,
   "metadata": {},
   "outputs": [],
   "source": [
    "import heapq\n",
    "\n",
    "class HeapUtility:\n",
    "    def get_min_cost(self, arr):\n",
    "        heap = []\n",
    "        cost = 0\n",
    "        heapq.heapify(heap)\n",
    "        for i in arr:\n",
    "            heapq.heappush(heap, i)\n",
    "        \n",
    "        while(len(heap)>1):\n",
    "            x = heapq.heappop(heap)\n",
    "            y = heapq.heappop(heap)\n",
    "            \n",
    "            sum = x + y\n",
    "            cost = cost + sum\n",
    "            \n",
    "            \n",
    "\n",
    "\n",
    "if __name__ == \"__main__\":\n",
    "    arr = [1, 2, 3, 4, 5]\n",
    "    ut = HeapUtility()\n",
    "    print(ut.get_min_cost(arr))"
   ]
  }
 ],
 "metadata": {
  "kernelspec": {
   "display_name": "Python 3",
   "language": "python",
   "name": "python3"
  },
  "language_info": {
   "codemirror_mode": {
    "name": "ipython",
    "version": 3
   },
   "file_extension": ".py",
   "mimetype": "text/x-python",
   "name": "python",
   "nbconvert_exporter": "python",
   "pygments_lexer": "ipython3",
   "version": "3.8.5"
  }
 },
 "nbformat": 4,
 "nbformat_minor": 4
}
