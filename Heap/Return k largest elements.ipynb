{
 "cells": [
  {
   "cell_type": "code",
   "execution_count": 5,
   "metadata": {},
   "outputs": [],
   "source": [
    "import heapq\n",
    "class HeapUtility:\n",
    "    def get_k_largest(self, arr, k):\n",
    "        \"\"\"\n",
    "        without using nlargest() function of heapq\n",
    "        \"\"\"\n",
    "        heap = []\n",
    "        heapq.heapify(heap)\n",
    "        for i in arr:\n",
    "            heapq.heappush(heap, i)\n",
    "            if len(heap) > k:\n",
    "                heapq.heappop(heap)\n",
    "        return heap"
   ]
  },
  {
   "cell_type": "code",
   "execution_count": 6,
   "metadata": {},
   "outputs": [
    {
     "name": "stdout",
     "output_type": "stream",
     "text": [
      "[10, 15, 20]\n"
     ]
    }
   ],
   "source": [
    "ht = HeapUtility()\n",
    "arr = [7, 10, 4, 3, 20, 15]\n",
    "k = 3\n",
    "print(ht.get_k_largest(arr, k))"
   ]
  },
  {
   "cell_type": "code",
   "execution_count": null,
   "metadata": {},
   "outputs": [],
   "source": []
  }
 ],
 "metadata": {
  "kernelspec": {
   "display_name": "Python 3",
   "language": "python",
   "name": "python3"
  },
  "language_info": {
   "codemirror_mode": {
    "name": "ipython",
    "version": 3
   },
   "file_extension": ".py",
   "mimetype": "text/x-python",
   "name": "python",
   "nbconvert_exporter": "python",
   "pygments_lexer": "ipython3",
   "version": "3.8.5"
  }
 },
 "nbformat": 4,
 "nbformat_minor": 4
}
