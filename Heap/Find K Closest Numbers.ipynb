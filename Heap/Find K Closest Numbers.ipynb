{
 "cells": [
  {
   "cell_type": "code",
   "execution_count": 17,
   "metadata": {},
   "outputs": [],
   "source": [
    "import heapq"
   ]
  },
  {
   "cell_type": "code",
   "execution_count": 19,
   "metadata": {},
   "outputs": [
    {
     "name": "stdout",
     "output_type": "stream",
     "text": [
      "[(-1, 6), (-1, 8), (0, 7)]\n"
     ]
    }
   ],
   "source": [
    "class HeapUtility:\n",
    "    def get_closest_number(self, arr, k, x):\n",
    "        closest_number = []\n",
    "        cls = []\n",
    "        heapq.heapify(closest_number)\n",
    "        \n",
    "        for i in arr:\n",
    "            heapq.heappush(closest_number, (-1 *abs(x-i), i))\n",
    "            \n",
    "            if len(closest_number) > 3:\n",
    "                heapq.heappop(closest_number)\n",
    "        \n",
    "        for i in closest_number:\n",
    "            cls.append(heapq.heappop(closest_number)[])\n",
    "        \n",
    "        return closest_number\n",
    "\n",
    "    \n",
    "if __name__ == \"__main__\":\n",
    "    arr = [5, 6, 7, 8, 9]\n",
    "    k = 3\n",
    "    x = 7\n",
    "    ut = HeapUtility()\n",
    "    print(ut.get_closest_number(arr, k, x))"
   ]
  },
  {
   "cell_type": "code",
   "execution_count": null,
   "metadata": {},
   "outputs": [],
   "source": []
  }
 ],
 "metadata": {
  "kernelspec": {
   "display_name": "Python 3",
   "language": "python",
   "name": "python3"
  },
  "language_info": {
   "codemirror_mode": {
    "name": "ipython",
    "version": 3
   },
   "file_extension": ".py",
   "mimetype": "text/x-python",
   "name": "python",
   "nbconvert_exporter": "python",
   "pygments_lexer": "ipython3",
   "version": "3.8.5"
  }
 },
 "nbformat": 4,
 "nbformat_minor": 4
}
