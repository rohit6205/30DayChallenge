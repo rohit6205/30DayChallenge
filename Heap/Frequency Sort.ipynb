{
 "cells": [
  {
   "cell_type": "code",
   "execution_count": 5,
   "metadata": {},
   "outputs": [
    {
     "name": "stdout",
     "output_type": "stream",
     "text": [
      "[1, 1, 1, 2, 2, 3, 4]\n"
     ]
    }
   ],
   "source": [
    "import heapq\n",
    "\n",
    "class HeapUtility:\n",
    "    def frequency_sort(self, arr):\n",
    "        \"\"\"\n",
    "        Using Max Heap\n",
    "        \"\"\"\n",
    "        hmap = dict()\n",
    "        heap = []\n",
    "        frequency_sort = []\n",
    "        for i in arr:\n",
    "            if i not in hmap:\n",
    "                hmap[i] = 1\n",
    "            else:\n",
    "                hmap[i] += 1\n",
    "        \n",
    "        heapq.heapify(heap)\n",
    "        \n",
    "        for v, k in hmap.items():\n",
    "            heapq.heappush(heap, (-1*k, v))\n",
    "        \n",
    "        for i in range(len(heap)):\n",
    "            frequency, value = heapq.heappop(heap)\n",
    "            for i in range(-1*frequency):\n",
    "                frequency_sort.append(value)\n",
    "        \n",
    "        return frequency_sort\n",
    "    \n",
    "\n",
    "if __name__ == \"__main__\":\n",
    "    arr = [1, 1, 1, 3, 2, 2, 4]\n",
    "    ut = HeapUtility()\n",
    "    print(ut.frequency_sort(arr))"
   ]
  },
  {
   "cell_type": "code",
   "execution_count": null,
   "metadata": {},
   "outputs": [],
   "source": []
  }
 ],
 "metadata": {
  "kernelspec": {
   "display_name": "Python 3",
   "language": "python",
   "name": "python3"
  },
  "language_info": {
   "codemirror_mode": {
    "name": "ipython",
    "version": 3
   },
   "file_extension": ".py",
   "mimetype": "text/x-python",
   "name": "python",
   "nbconvert_exporter": "python",
   "pygments_lexer": "ipython3",
   "version": "3.8.5"
  }
 },
 "nbformat": 4,
 "nbformat_minor": 4
}
