{
 "cells": [
  {
   "cell_type": "code",
   "execution_count": 32,
   "metadata": {},
   "outputs": [
    {
     "name": "stdout",
     "output_type": "stream",
     "text": [
      "before heapify -  [7, 10, 4, 3, 20, 15]\n",
      "after heapify -  [3, 7, 4, 10, 20, 15]\n",
      "[3, 4]\n",
      "7\n"
     ]
    }
   ],
   "source": [
    "import heapq\n",
    "\n",
    "def get_nsmallest(arr, k):\n",
    "    \"\"\"\n",
    "    using nlargest() function\n",
    "    \"\"\"\n",
    "    heapq.heapify(arr)\n",
    "    \n",
    "    return heapq.nsmallest(2, arr)\n",
    "\n",
    "def get_k_smallest(arr, k):\n",
    "    \"\"\"\n",
    "    without using nsmallest\n",
    "    \"\"\"\n",
    "    heap = []\n",
    "    heapq.heapify(heap)\n",
    "    for i in arr:\n",
    "        heapq.heappush(heap, -1*i)\n",
    "        if len(heap) > k:\n",
    "            heapq.heappop(heap)\n",
    "    return -1*heap[0]\n",
    "    \n",
    "\n",
    "if __name__ == \"__main__\":\n",
    "    arr = [7, 10, 4, 3, 20, 15]\n",
    "    k = 3\n",
    "    print(get_nsmallest(arr, k))\n",
    "    print(get_k_smallest(arr, k))"
   ]
  }
 ],
 "metadata": {
  "kernelspec": {
   "display_name": "Python 3",
   "language": "python",
   "name": "python3"
  },
  "language_info": {
   "codemirror_mode": {
    "name": "ipython",
    "version": 3
   },
   "file_extension": ".py",
   "mimetype": "text/x-python",
   "name": "python",
   "nbconvert_exporter": "python",
   "pygments_lexer": "ipython3",
   "version": "3.8.5"
  }
 },
 "nbformat": 4,
 "nbformat_minor": 4
}
