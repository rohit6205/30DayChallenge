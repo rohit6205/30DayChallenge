{
 "cells": [
  {
   "cell_type": "code",
   "execution_count": 8,
   "metadata": {},
   "outputs": [
    {
     "name": "stdout",
     "output_type": "stream",
     "text": [
      "[2, 3, 5, 6, 8, 9, 10]\n"
     ]
    }
   ],
   "source": [
    "import heapq\n",
    "\n",
    "class HeapUtility:\n",
    "    def sort_nearly_sorted_array(self, arr, k):\n",
    "        heap = []\n",
    "        sorted_arr = []\n",
    "        heapq.heapify(heap)\n",
    "        for i in arr:\n",
    "            heapq.heappush(heap, i)\n",
    "            if len(heap) > k:\n",
    "                sorted_arr.append(heap[0])\n",
    "                heapq.heappop(heap)\n",
    "\n",
    "        for i in range(len(heap)):\n",
    "            sorted_arr.append(heap[0])\n",
    "            heapq.heappop(heap)\n",
    "        return sorted_arr\n",
    "\n",
    "\n",
    "if __name__ == \"__main__\":\n",
    "    arr = [6, 5, 3, 2, 8, 10, 9] ## this array is nearly/k sorted\n",
    "    k = 3\n",
    "    ut = HeapUtility()\n",
    "    print(ut.sort_nearly_sorted_array(arr, k))"
   ]
  },
  {
   "cell_type": "code",
   "execution_count": null,
   "metadata": {},
   "outputs": [],
   "source": []
  }
 ],
 "metadata": {
  "kernelspec": {
   "display_name": "Python 3",
   "language": "python",
   "name": "python3"
  },
  "language_info": {
   "codemirror_mode": {
    "name": "ipython",
    "version": 3
   },
   "file_extension": ".py",
   "mimetype": "text/x-python",
   "name": "python",
   "nbconvert_exporter": "python",
   "pygments_lexer": "ipython3",
   "version": "3.8.5"
  }
 },
 "nbformat": 4,
 "nbformat_minor": 4
}
