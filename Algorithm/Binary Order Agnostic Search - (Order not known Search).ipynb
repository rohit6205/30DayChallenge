{
 "cells": [
  {
   "cell_type": "code",
   "execution_count": 63,
   "metadata": {},
   "outputs": [],
   "source": [
    "def get_arranged_order(arr_of_element, n):\n",
    "    if arr_of_element[0] > arr_of_element[n-1]:\n",
    "        return \"desc\"\n",
    "    else:\n",
    "        return \"asc\"\n",
    "    \n",
    "\n",
    "def order_agnostic_search(arr, searched_element):\n",
    "    start_index = 0\n",
    "    end_index = len(arr) -1 \n",
    "    element_order = get_arranged_order(arr, len(arr))\n",
    "    \n",
    "    if element_order == 'asc':\n",
    "        while start_index <= end_index:\n",
    "            mid = start_index + (end_index - start_index) // 2\n",
    "            if searched_element == arr[mid]:\n",
    "                return mid\n",
    "            elif searched_element > arr[mid]:\n",
    "                start_index = mid + 1\n",
    "            else:\n",
    "                end_index = mid - 1\n",
    "        return -1\n",
    "    else:\n",
    "        while start_index <= end_index:\n",
    "            mid = start_index + (end_index - start_index) // 2\n",
    "            if searched_element == arr[mid]:\n",
    "                return mid\n",
    "            elif searched_element > arr[mid]:\n",
    "                end_index = mid - 1 \n",
    "            else:\n",
    "                start_index = mid + 1\n",
    "                \n",
    "        return -1"
   ]
  },
  {
   "cell_type": "code",
   "execution_count": 66,
   "metadata": {},
   "outputs": [
    {
     "name": "stdout",
     "output_type": "stream",
     "text": [
      "7 is at postion 6\n",
      "8 is at postion 7\n"
     ]
    }
   ],
   "source": [
    "## sorted array in acsending order\n",
    "arr = [1,2,3,4,5,6,7]\n",
    "element = 7\n",
    "print(\"{0} is at postion {1}\".format(element, order_agnostic_search(arr, element)))\n",
    "\n",
    "## sorted array in descending order\n",
    "arr = [65, 59, 42, 33, 25, 17, 11, 8]\n",
    "element = 8\n",
    "print(\"{0} is at postion {1}\".format(element, order_agnostic_search(arr, element)))"
   ]
  },
  {
   "cell_type": "code",
   "execution_count": null,
   "metadata": {},
   "outputs": [],
   "source": []
  }
 ],
 "metadata": {
  "kernelspec": {
   "display_name": "Python 3",
   "language": "python",
   "name": "python3"
  },
  "language_info": {
   "codemirror_mode": {
    "name": "ipython",
    "version": 3
   },
   "file_extension": ".py",
   "mimetype": "text/x-python",
   "name": "python",
   "nbconvert_exporter": "python",
   "pygments_lexer": "ipython3",
   "version": "3.8.5"
  }
 },
 "nbformat": 4,
 "nbformat_minor": 4
}
