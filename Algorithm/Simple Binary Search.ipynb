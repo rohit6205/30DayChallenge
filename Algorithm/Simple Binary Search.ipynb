{
 "cells": [
  {
   "cell_type": "code",
   "execution_count": 23,
   "metadata": {
    "scrolled": false
   },
   "outputs": [
    {
     "name": "stdout",
     "output_type": "stream",
     "text": [
      "5 is in postion 4\n",
      "-----------------------\n",
      "2 is in postion 1\n",
      "-----------------------\n",
      "6 is in postion 5\n"
     ]
    }
   ],
   "source": [
    "def binary_search(arr, element_to_search):\n",
    "    \n",
    "    start = 0\n",
    "    end = len(arr) - 1\n",
    "    while(start <= end):\n",
    "        mid = start + (end - start)//2\n",
    "        if arr[mid] == element_to_search:\n",
    "            ## returns the position of searched element ##\n",
    "            return mid\n",
    "        elif arr[mid] > element_to_search:\n",
    "            end = mid\n",
    "        else:\n",
    "            start = mid + 1\n",
    "            \n",
    "    ## return -1 if element not found ##\n",
    "    return -1\n",
    "\n",
    "\n",
    "elements = [1, 2, 3, 4, 5, 6]\n",
    "find_element = 5\n",
    "print(\"{0} is in postion {1}\".format(find_element, binary_search(elements, find_element)))\n",
    "print(\"-----------------------\")\n",
    "\n",
    "find_element = 2\n",
    "print(\"{0} is in postion {1}\".format(find_element, binary_search(elements, find_element)))\n",
    "print(\"-----------------------\")\n",
    "\n",
    "find_element = 6\n",
    "print(\"{0} is in postion {1}\".format(find_element, binary_search(elements, find_element)))"
   ]
  },
  {
   "cell_type": "code",
   "execution_count": null,
   "metadata": {},
   "outputs": [],
   "source": []
  }
 ],
 "metadata": {
  "kernelspec": {
   "display_name": "Python 3",
   "language": "python",
   "name": "python3"
  },
  "language_info": {
   "codemirror_mode": {
    "name": "ipython",
    "version": 3
   },
   "file_extension": ".py",
   "mimetype": "text/x-python",
   "name": "python",
   "nbconvert_exporter": "python",
   "pygments_lexer": "ipython3",
   "version": "3.8.5"
  }
 },
 "nbformat": 4,
 "nbformat_minor": 4
}
