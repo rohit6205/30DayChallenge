{
 "cells": [
  {
   "cell_type": "code",
   "execution_count": 18,
   "metadata": {},
   "outputs": [],
   "source": [
    "def get_element(arr, searched_element):\n",
    "    \"\"\"   \"\"\"\n",
    "    start = 0\n",
    "    end = 1  ## this is set to 1 as we have an infinite array and we dont know the length\n",
    "    while start <= end:\n",
    "        if searched_element > arr[end]:\n",
    "            start = end\n",
    "            end = end * 2\n",
    "        mid = start + (end - start) // 2\n",
    "        if searched_element > arr[mid]:\n",
    "            start = mid + 1\n",
    "        else:\n",
    "            end = mid - 1\n",
    "    return mid"
   ]
  },
  {
   "cell_type": "code",
   "execution_count": 19,
   "metadata": {},
   "outputs": [
    {
     "name": "stdout",
     "output_type": "stream",
     "text": [
      "9 is found at position 8\n"
     ]
    }
   ],
   "source": [
    "elements = [1,2,3,4,5,6,7,8,9,10]\n",
    "element = 9\n",
    "\n",
    "print(\"{0} is found at position {1}\".format(element, get_element(elements, element)))"
   ]
  },
  {
   "cell_type": "code",
   "execution_count": null,
   "metadata": {},
   "outputs": [],
   "source": []
  }
 ],
 "metadata": {
  "kernelspec": {
   "display_name": "Python 3",
   "language": "python",
   "name": "python3"
  },
  "language_info": {
   "codemirror_mode": {
    "name": "ipython",
    "version": 3
   },
   "file_extension": ".py",
   "mimetype": "text/x-python",
   "name": "python",
   "nbconvert_exporter": "python",
   "pygments_lexer": "ipython3",
   "version": "3.8.5"
  }
 },
 "nbformat": 4,
 "nbformat_minor": 4
}
