{
 "cells": [
  {
   "cell_type": "code",
   "execution_count": 7,
   "metadata": {},
   "outputs": [],
   "source": [
    "def get_next_alphabet(arr, searched_element):\n",
    "    \"\"\"   \"\"\"\n",
    "    start = 0\n",
    "    end = len(arr) - 1\n",
    "    result = -1\n",
    "    while(start <= end):\n",
    "        mid = start + (end - start) // 2\n",
    "        if arr[mid] == searched_element:\n",
    "            start = mid + 1  \n",
    "        elif searched_element >  arr[mid]:\n",
    "            start = mid + 1\n",
    "        else:\n",
    "            end = mid - 1\n",
    "            result = mid\n",
    "    return result"
   ]
  },
  {
   "cell_type": "code",
   "execution_count": 13,
   "metadata": {},
   "outputs": [
    {
     "name": "stdout",
     "output_type": "stream",
     "text": [
      "Next Element of b is at position 2\n"
     ]
    }
   ],
   "source": [
    "elements = ['a', 'b', 'c', 'f', 'h']\n",
    "element = 'b'\n",
    "\n",
    "print(\"Next Element of {0} is at position {1}\".format(element, get_next_alphabet(elements, element)))"
   ]
  },
  {
   "cell_type": "code",
   "execution_count": null,
   "metadata": {},
   "outputs": [],
   "source": []
  }
 ],
 "metadata": {
  "kernelspec": {
   "display_name": "Python 3",
   "language": "python",
   "name": "python3"
  },
  "language_info": {
   "codemirror_mode": {
    "name": "ipython",
    "version": 3
   },
   "file_extension": ".py",
   "mimetype": "text/x-python",
   "name": "python",
   "nbconvert_exporter": "python",
   "pygments_lexer": "ipython3",
   "version": "3.8.5"
  }
 },
 "nbformat": 4,
 "nbformat_minor": 4
}
