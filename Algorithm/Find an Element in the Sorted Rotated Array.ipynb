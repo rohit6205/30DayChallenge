{
 "cells": [
  {
   "cell_type": "code",
   "execution_count": 18,
   "metadata": {},
   "outputs": [],
   "source": [
    "def find_element(elements, element, index_of_min):\n",
    "    \"\"\"   \"\"\"\n",
    "    l_index_of_element = search_left_part(elements, element, index_of_min)\n",
    "    if l_index_of_element != -1:\n",
    "        print(\"found {0} in left part - {1}\".format(element, l_index_of_element))\n",
    "    else:\n",
    "        r_index_of_element = search_right_part(elements, element, index_of_min)\n",
    "        if r_index_of_element != -1:\n",
    "            print(\"found {0} in right part - {1}\".format(element, r_index_of_element))\n",
    "        else:\n",
    "            print(\"element not found\")\n",
    "    \n",
    "\n",
    "def get_rotation(arr):\n",
    "    \"\"\" returns index of min element  \"\"\"\n",
    "    N = len(arr)\n",
    "    start = 0\n",
    "    end = N - 1\n",
    "    while(start <= end):\n",
    "        if arr[start] <= arr[end]:\n",
    "            return start\n",
    "        mid = start + (end - start) // 2\n",
    "        previous = (mid - 1 + N) % N\n",
    "        next_ = (mid + 1) % N\n",
    "\n",
    "        if arr[mid] < arr[previous] and arr[mid] < arr[next_]:\n",
    "            return mid + 1\n",
    "        elif arr[start] < arr[mid]:\n",
    "            start = mid + 1\n",
    "        else:\n",
    "            end = mid - 1\n",
    "    \n",
    "    retunr -1\n",
    "    \n",
    "def search_left_part(arr, searched_element, index = 0):\n",
    "    \"\"\"  \"\"\"\n",
    "    start = 0\n",
    "    end = index - 1 \n",
    "    while(start <= end):\n",
    "        mid = start + (end - start) // 2\n",
    "        if arr[mid] == searched_element:\n",
    "            return mid\n",
    "        elif searched_element > arr[mid]:\n",
    "            start = mid + 1\n",
    "        else:\n",
    "            end = mid - 1\n",
    "    return -1\n",
    "\n",
    "def search_right_part(arr, searched_element, index=0):\n",
    "    \"\"\"   \"\"\"\n",
    "    start = index\n",
    "    end = len(arr) - 1\n",
    "    while (start <= end):\n",
    "        mid = start + (end - start) // 2\n",
    "        if arr[mid] == searched_element:\n",
    "            return mid\n",
    "        elif searched_element > arr[mid]:\n",
    "            start = mid + 1\n",
    "        else:\n",
    "            end = mid - 1\n",
    "    return -1"
   ]
  },
  {
   "cell_type": "code",
   "execution_count": 19,
   "metadata": {},
   "outputs": [
    {
     "name": "stdout",
     "output_type": "stream",
     "text": [
      "found 2 in right part - 4\n",
      "found 4 in right part - 5\n",
      "found 9 in right part - 7\n",
      "found 11 in left part - 0\n"
     ]
    }
   ],
   "source": [
    "elements = [11, 12, 15, 18, 2, 4, 6, 9]\n",
    "\n",
    "\n",
    "element = 2\n",
    "index_of_min = get_rotation(elements)\n",
    "find_element(elements, element, index_of_min)\n",
    "\n",
    "element = 4\n",
    "index_of_min = get_rotation(elements)\n",
    "find_element(elements, element, index_of_min)\n",
    "\n",
    "element = 9\n",
    "index_of_min = get_rotation(elements)\n",
    "find_element(elements, element, index_of_min)\n",
    "\n",
    "element = 11\n",
    "index_of_min = get_rotation(elements)\n",
    "find_element(elements, element, index_of_min)"
   ]
  },
  {
   "cell_type": "code",
   "execution_count": null,
   "metadata": {},
   "outputs": [],
   "source": []
  }
 ],
 "metadata": {
  "kernelspec": {
   "display_name": "Python 3",
   "language": "python",
   "name": "python3"
  },
  "language_info": {
   "codemirror_mode": {
    "name": "ipython",
    "version": 3
   },
   "file_extension": ".py",
   "mimetype": "text/x-python",
   "name": "python",
   "nbconvert_exporter": "python",
   "pygments_lexer": "ipython3",
   "version": "3.8.5"
  }
 },
 "nbformat": 4,
 "nbformat_minor": 4
}
