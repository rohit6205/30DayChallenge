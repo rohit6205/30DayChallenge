{
 "cells": [
  {
   "cell_type": "code",
   "execution_count": 16,
   "metadata": {},
   "outputs": [],
   "source": [
    "def find_element(elements, element, index_of_min):\n",
    "    \"\"\"   \"\"\"\n",
    "    l_index_of_element = search_left_part(elements, element, index_of_min)\n",
    "    if l_index_of_element != -1:\n",
    "        print(\"found {0} in left part - {1}\".format(element, l_index_of_element))\n",
    "    else:\n",
    "        r_index_of_element = search_right_part(elements, element, index_of_min)\n",
    "        if r_index_of_element != -1:\n",
    "            print(\"found {} in right part - {0}\".format(element, r_index_of_element))\n",
    "        else:\n",
    "            print(\"element not found\")\n",
    "    \n",
    "\n",
    "def get_rotation(arr):\n",
    "    \"\"\" returns index of min element  \"\"\"\n",
    "    N = len(arr)\n",
    "    start = 0\n",
    "    end = N - 1\n",
    "    while(start <= end):\n",
    "        if arr[start] <= arr[end]:\n",
    "            return start\n",
    "        mid = start + (end - start) // 2\n",
    "        previous = (mid - 1 + N) % N\n",
    "        next_ = (mid + 1) % N\n",
    "\n",
    "        if arr[mid] < arr[previous] and arr[mid] < arr[next_]:\n",
    "            return mid + 1\n",
    "        elif arr[start] < arr[mid]:\n",
    "            start = mid + 1\n",
    "        else:\n",
    "            end = mid - 1\n",
    "    \n",
    "    retunr -1\n",
    "    \n",
    "def search_left_part(arr, searched_element, index = 0):\n",
    "    \"\"\"  \"\"\"\n",
    "    start = 0\n",
    "    end = index - 1 \n",
    "    while(start <= end):\n",
    "        mid = start + (end - start) // 2\n",
    "        if arr[mid] == searched_element:\n",
    "            return mid\n",
    "        elif searched_element > arr[mid]:\n",
    "            start = mid + 1\n",
    "        else:\n",
    "            end = mid - 1\n",
    "    return -1\n",
    "\n",
    "def search_right_part(arr, searched_element, index=0):\n",
    "    \"\"\"   \"\"\"\n",
    "    start = index\n",
    "    end = len(arr) - 1\n",
    "    while (start <= end):\n",
    "        mid = start + (end - start) // 2\n",
    "        if arr[mid] == searched_element:\n",
    "            return mid\n",
    "        elif searched_element > arr[mid]:\n",
    "            start = mid + 1\n",
    "        else:\n",
    "            end = mid - 1\n",
    "    return -1"
   ]
  },
  {
   "cell_type": "code",
   "execution_count": 17,
   "metadata": {},
   "outputs": [
    {
     "ename": "KeyError",
     "evalue": "'element'",
     "output_type": "error",
     "traceback": [
      "\u001b[1;31m---------------------------------------------------------------------------\u001b[0m",
      "\u001b[1;31mKeyError\u001b[0m                                  Traceback (most recent call last)",
      "\u001b[1;32m<ipython-input-17-867effdb9ccf>\u001b[0m in \u001b[0;36m<module>\u001b[1;34m\u001b[0m\n\u001b[0;32m      4\u001b[0m \u001b[0melement\u001b[0m \u001b[1;33m=\u001b[0m \u001b[1;36m2\u001b[0m\u001b[1;33m\u001b[0m\u001b[1;33m\u001b[0m\u001b[0m\n\u001b[0;32m      5\u001b[0m \u001b[0mindex_of_min\u001b[0m \u001b[1;33m=\u001b[0m \u001b[0mget_rotation\u001b[0m\u001b[1;33m(\u001b[0m\u001b[0melements\u001b[0m\u001b[1;33m)\u001b[0m\u001b[1;33m\u001b[0m\u001b[1;33m\u001b[0m\u001b[0m\n\u001b[1;32m----> 6\u001b[1;33m \u001b[0mfind_element\u001b[0m\u001b[1;33m(\u001b[0m\u001b[0melements\u001b[0m\u001b[1;33m,\u001b[0m \u001b[0melement\u001b[0m\u001b[1;33m,\u001b[0m \u001b[0mindex_of_min\u001b[0m\u001b[1;33m)\u001b[0m\u001b[1;33m\u001b[0m\u001b[1;33m\u001b[0m\u001b[0m\n\u001b[0m\u001b[0;32m      7\u001b[0m \u001b[1;33m\u001b[0m\u001b[0m\n\u001b[0;32m      8\u001b[0m \u001b[0melement\u001b[0m \u001b[1;33m=\u001b[0m \u001b[1;36m4\u001b[0m\u001b[1;33m\u001b[0m\u001b[1;33m\u001b[0m\u001b[0m\n",
      "\u001b[1;32m<ipython-input-16-6a1571fc234c>\u001b[0m in \u001b[0;36mfind_element\u001b[1;34m(elements, element, index_of_min)\u001b[0m\n\u001b[0;32m      7\u001b[0m         \u001b[0mr_index_of_element\u001b[0m \u001b[1;33m=\u001b[0m \u001b[0msearch_right_part\u001b[0m\u001b[1;33m(\u001b[0m\u001b[0melements\u001b[0m\u001b[1;33m,\u001b[0m \u001b[0melement\u001b[0m\u001b[1;33m,\u001b[0m \u001b[0mindex_of_min\u001b[0m\u001b[1;33m)\u001b[0m\u001b[1;33m\u001b[0m\u001b[1;33m\u001b[0m\u001b[0m\n\u001b[0;32m      8\u001b[0m         \u001b[1;32mif\u001b[0m \u001b[0mr_index_of_element\u001b[0m \u001b[1;33m!=\u001b[0m \u001b[1;33m-\u001b[0m\u001b[1;36m1\u001b[0m\u001b[1;33m:\u001b[0m\u001b[1;33m\u001b[0m\u001b[1;33m\u001b[0m\u001b[0m\n\u001b[1;32m----> 9\u001b[1;33m             \u001b[0mprint\u001b[0m\u001b[1;33m(\u001b[0m\u001b[1;34m\"found {element} in right part - {0}\"\u001b[0m\u001b[1;33m.\u001b[0m\u001b[0mformat\u001b[0m\u001b[1;33m(\u001b[0m\u001b[0mr_index_of_element\u001b[0m\u001b[1;33m)\u001b[0m\u001b[1;33m)\u001b[0m\u001b[1;33m\u001b[0m\u001b[1;33m\u001b[0m\u001b[0m\n\u001b[0m\u001b[0;32m     10\u001b[0m         \u001b[1;32melse\u001b[0m\u001b[1;33m:\u001b[0m\u001b[1;33m\u001b[0m\u001b[1;33m\u001b[0m\u001b[0m\n\u001b[0;32m     11\u001b[0m             \u001b[0mprint\u001b[0m\u001b[1;33m(\u001b[0m\u001b[1;34m\"element not found\"\u001b[0m\u001b[1;33m)\u001b[0m\u001b[1;33m\u001b[0m\u001b[1;33m\u001b[0m\u001b[0m\n",
      "\u001b[1;31mKeyError\u001b[0m: 'element'"
     ]
    }
   ],
   "source": [
    "elements = [11, 12, 15, 18, 2, 4, 6, 9]\n",
    "\n",
    "\n",
    "element = 2\n",
    "index_of_min = get_rotation(elements)\n",
    "find_element(elements, element, index_of_min)\n",
    "\n",
    "element = 4\n",
    "index_of_min = get_rotation(elements)\n",
    "find_element(elements, element, index_of_min)\n",
    "\n",
    "element = 9\n",
    "index_of_min = get_rotation(elements)\n",
    "find_element(elements, element, index_of_min)\n",
    "\n",
    "element = 11\n",
    "index_of_min = get_rotation(elements)\n",
    "find_element(elements, element, index_of_min)"
   ]
  },
  {
   "cell_type": "code",
   "execution_count": null,
   "metadata": {},
   "outputs": [],
   "source": []
  }
 ],
 "metadata": {
  "kernelspec": {
   "display_name": "Python 3",
   "language": "python",
   "name": "python3"
  },
  "language_info": {
   "codemirror_mode": {
    "name": "ipython",
    "version": 3
   },
   "file_extension": ".py",
   "mimetype": "text/x-python",
   "name": "python",
   "nbconvert_exporter": "python",
   "pygments_lexer": "ipython3",
   "version": "3.8.5"
  }
 },
 "nbformat": 4,
 "nbformat_minor": 4
}
