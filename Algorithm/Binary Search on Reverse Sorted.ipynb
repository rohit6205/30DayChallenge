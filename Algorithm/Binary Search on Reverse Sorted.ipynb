{
 "cells": [
  {
   "cell_type": "code",
   "execution_count": 23,
   "metadata": {},
   "outputs": [],
   "source": [
    "def reverse_binary_search(elements, searched_element):\n",
    "    \"\"\"return the position of searched element\"\"\"\n",
    "    \n",
    "    start_index = 0\n",
    "    end_index = len(arr)\n",
    "    \n",
    "    while start_index < end_index:\n",
    "        mid = start_index + (end_index - start_index) // 2\n",
    "        if arr[mid] == searched_element:\n",
    "            return mid\n",
    "        elif arr[mid] > searched_element:\n",
    "            start_index = mid\n",
    "        else:\n",
    "            end_index = mid\n",
    "    ## return -1 if element not found ##\n",
    "    return -1\n",
    "    "
   ]
  },
  {
   "cell_type": "code",
   "execution_count": 24,
   "metadata": {},
   "outputs": [
    {
     "name": "stdout",
     "output_type": "stream",
     "text": [
      "9 is in postion 1\n",
      "-----------------\n",
      "3 is in postion 7\n",
      "-----------------\n",
      "10 is in postion 0\n",
      "-----------------\n"
     ]
    }
   ],
   "source": [
    "arr = [10, 9, 8, 7, 6, 5, 4, 3]\n",
    "\n",
    "find_element = 9\n",
    "print(\"{0} is in postion {1}\".format(find_element, reverse_binary_search(arr, find_element)))\n",
    "print(\"-----------------\")\n",
    "\n",
    "\n",
    "find_element = 3\n",
    "print(\"{0} is in postion {1}\".format(find_element, reverse_binary_search(arr, find_element)))\n",
    "print(\"-----------------\")\n",
    "\n",
    "find_element = 10\n",
    "print(\"{0} is in postion {1}\".format(find_element, reverse_binary_search(arr, find_element)))"
   ]
  },
  {
   "cell_type": "code",
   "execution_count": null,
   "metadata": {},
   "outputs": [],
   "source": []
  }
 ],
 "metadata": {
  "kernelspec": {
   "display_name": "Python 3",
   "language": "python",
   "name": "python3"
  },
  "language_info": {
   "codemirror_mode": {
    "name": "ipython",
    "version": 3
   },
   "file_extension": ".py",
   "mimetype": "text/x-python",
   "name": "python",
   "nbconvert_exporter": "python",
   "pygments_lexer": "ipython3",
   "version": "3.8.5"
  }
 },
 "nbformat": 4,
 "nbformat_minor": 4
}
