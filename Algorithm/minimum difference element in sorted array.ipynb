{
 "cells": [
  {
   "cell_type": "code",
   "execution_count": 11,
   "metadata": {},
   "outputs": [],
   "source": [
    "def find_min_diff_element(arr, find_element):\n",
    "    \"\"\"   \"\"\"\n",
    "    start = 0\n",
    "    end = len(arr) - 1\n",
    "    while start <= end:\n",
    "        mid = start + (end - start) // 2\n",
    "        if arr[mid] == find_element:\n",
    "            return arr[mid]\n",
    "        elif find_element > arr[mid]:\n",
    "            start = mid + 1\n",
    "        else:\n",
    "            end = mid - 1\n",
    "    min_diff_1 = abs(arr[start] - find_element)\n",
    "    min_diff_2 = abs(find_element - arr[end])\n",
    "    if min_diff_1 < min_diff_2:\n",
    "        return arr[start]\n",
    "    else:\n",
    "        return arr[end]"
   ]
  },
  {
   "cell_type": "code",
   "execution_count": 14,
   "metadata": {},
   "outputs": [
    {
     "name": "stdout",
     "output_type": "stream",
     "text": [
      "min difference element for 17 is 17\n"
     ]
    }
   ],
   "source": [
    "elements = [1, 3, 8, 10, 15, 17, 20 , 32]\n",
    "element = 17\n",
    "\n",
    "print(\"min difference element for {0} is {1}\".format(element, find_min_diff_element(elements, element)))"
   ]
  },
  {
   "cell_type": "code",
   "execution_count": null,
   "metadata": {},
   "outputs": [],
   "source": []
  }
 ],
 "metadata": {
  "kernelspec": {
   "display_name": "Python 3",
   "language": "python",
   "name": "python3"
  },
  "language_info": {
   "codemirror_mode": {
    "name": "ipython",
    "version": 3
   },
   "file_extension": ".py",
   "mimetype": "text/x-python",
   "name": "python",
   "nbconvert_exporter": "python",
   "pygments_lexer": "ipython3",
   "version": "3.8.5"
  }
 },
 "nbformat": 4,
 "nbformat_minor": 4
}
