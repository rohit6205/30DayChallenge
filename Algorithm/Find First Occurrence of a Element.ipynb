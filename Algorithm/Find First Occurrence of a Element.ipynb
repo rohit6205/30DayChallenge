{
 "cells": [
  {
   "cell_type": "code",
   "execution_count": 21,
   "metadata": {},
   "outputs": [],
   "source": [
    "def find_first_occurrence(arr, find_element):\n",
    "    \"\"\" return index of first occurence of a given element \"\"\"\n",
    "    \n",
    "    start_index = 0\n",
    "    end_index = len(arr) - 1\n",
    "    result = -1\n",
    "    \n",
    "    while(start_index <= end_index):\n",
    "        mid = start_index + (end_index - start_index) // 2\n",
    "        if find_element == arr[mid]:\n",
    "            result = mid\n",
    "            end_index = mid - 1\n",
    "        elif find_element > arr[mid]:\n",
    "            start_index = mid + 1\n",
    "        else:\n",
    "            end_index = mid - 1\n",
    "    return result"
   ]
  },
  {
   "cell_type": "code",
   "execution_count": 27,
   "metadata": {},
   "outputs": [
    {
     "name": "stdout",
     "output_type": "stream",
     "text": [
      "first occurrence of element - 8 is 5\n"
     ]
    }
   ],
   "source": [
    "elements = [2,3,3,4,5,8,8,8]\n",
    "element = 8\n",
    "print(\"first occurrence of element - {0} is {1}\".format(element, find_first_occurrence(elements, element)))"
   ]
  },
  {
   "cell_type": "code",
   "execution_count": null,
   "metadata": {},
   "outputs": [],
   "source": []
  }
 ],
 "metadata": {
  "kernelspec": {
   "display_name": "Python 3",
   "language": "python",
   "name": "python3"
  },
  "language_info": {
   "codemirror_mode": {
    "name": "ipython",
    "version": 3
   },
   "file_extension": ".py",
   "mimetype": "text/x-python",
   "name": "python",
   "nbconvert_exporter": "python",
   "pygments_lexer": "ipython3",
   "version": "3.8.5"
  }
 },
 "nbformat": 4,
 "nbformat_minor": 4
}
