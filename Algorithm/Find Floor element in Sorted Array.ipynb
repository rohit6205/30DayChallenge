{
 "cells": [
  {
   "cell_type": "code",
   "execution_count": 54,
   "metadata": {},
   "outputs": [],
   "source": [
    "def get_floor_number(arr, searched_element):\n",
    "    \"\"\" return the floor element  \"\"\"\n",
    "    start = 0\n",
    "    end = len(arr) - 1\n",
    "    floor_element_index = -1\n",
    "    while start <= end:\n",
    "        mid = start + (end - start) // 2\n",
    "        if arr[mid] == searched_element:\n",
    "            return mid\n",
    "        elif searched_element > arr[mid]:\n",
    "            start = mid + 1\n",
    "            if arr[mid] < searched_element:\n",
    "                floor_element_index = mid\n",
    "        else:\n",
    "            end = mid - 1\n",
    "            if arr[mid] < searched_element:\n",
    "                floor_element_index = mid\n",
    "    return floor_element_index"
   ]
  },
  {
   "cell_type": "code",
   "execution_count": 58,
   "metadata": {},
   "outputs": [
    {
     "name": "stdout",
     "output_type": "stream",
     "text": [
      "Floor value of 1 is 1\n",
      "Floor value of 5 is 4\n",
      "Floor value of 11 is 10\n"
     ]
    }
   ],
   "source": [
    "elements = [1, 2, 3, 4, 8, 10, 10, 12, 19]\n",
    "\n",
    "element = 1\n",
    "print(\"Floor value of {0} is {1}\".format(element, elements[get_floor_number(elements, element)]))\n",
    "\n",
    "element = 5\n",
    "print(\"Floor value of {0} is {1}\".format(element, elements[get_floor_number(elements, element)]))\n",
    "\n",
    "element = 11\n",
    "print(\"Floor value of {0} is {1}\".format(element, elements[get_floor_number(elements, element)]))"
   ]
  },
  {
   "cell_type": "code",
   "execution_count": null,
   "metadata": {},
   "outputs": [],
   "source": []
  }
 ],
 "metadata": {
  "kernelspec": {
   "display_name": "Python 3",
   "language": "python",
   "name": "python3"
  },
  "language_info": {
   "codemirror_mode": {
    "name": "ipython",
    "version": 3
   },
   "file_extension": ".py",
   "mimetype": "text/x-python",
   "name": "python",
   "nbconvert_exporter": "python",
   "pygments_lexer": "ipython3",
   "version": "3.8.5"
  }
 },
 "nbformat": 4,
 "nbformat_minor": 4
}
