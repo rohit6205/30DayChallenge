{
 "cells": [
  {
   "cell_type": "code",
   "execution_count": 24,
   "metadata": {},
   "outputs": [],
   "source": [
    "def get_first_index_of_1(arr, searched_element):\n",
    "    start = 0 \n",
    "    end = 1\n",
    "    index_of_1 = -1\n",
    "    while searched_element > arr[end]:\n",
    "        if searched_element >=  arr[end]:\n",
    "            start = end\n",
    "            end = end * 2\n",
    "    \n",
    "    while start <= end:\n",
    "        mid = start + (end - start) // 2 \n",
    "        \n",
    "        if searched_element == arr[mid]:\n",
    "            index_of_1 = mid\n",
    "            end = mid - 1\n",
    "        elif searched_element > arr[mid]:\n",
    "            start = mid + 1\n",
    "        else:\n",
    "            end = mid - 1\n",
    "    return index_of_1"
   ]
  },
  {
   "cell_type": "code",
   "execution_count": 25,
   "metadata": {},
   "outputs": [
    {
     "name": "stdout",
     "output_type": "stream",
     "text": [
      "first occurrence of 1 is at position 7 \n"
     ]
    }
   ],
   "source": [
    "elements = [0, 0, 0, 0, 0, 0, 0, 1, 1,1,1,1,1,1,1,1,1]\n",
    "element = 1\n",
    "print(\"first occurrence of {0} is at position {1} \".format(element, get_first_index_of_1(elements, element)))"
   ]
  },
  {
   "cell_type": "code",
   "execution_count": null,
   "metadata": {},
   "outputs": [],
   "source": []
  }
 ],
 "metadata": {
  "kernelspec": {
   "display_name": "Python 3",
   "language": "python",
   "name": "python3"
  },
  "language_info": {
   "codemirror_mode": {
    "name": "ipython",
    "version": 3
   },
   "file_extension": ".py",
   "mimetype": "text/x-python",
   "name": "python",
   "nbconvert_exporter": "python",
   "pygments_lexer": "ipython3",
   "version": "3.8.5"
  }
 },
 "nbformat": 4,
 "nbformat_minor": 4
}
