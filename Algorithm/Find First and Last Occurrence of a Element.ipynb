{
 "cells": [
  {
   "cell_type": "markdown",
   "metadata": {},
   "source": [
    "## Getting first and last index of an element"
   ]
  },
  {
   "cell_type": "code",
   "execution_count": 37,
   "metadata": {},
   "outputs": [],
   "source": [
    "def find_first_occurrence(arr, find_element):\n",
    "    \"\"\" return index of first occurence of a given element \"\"\"\n",
    "    \n",
    "    start_index = 0\n",
    "    end_index = len(arr) - 1\n",
    "    result = -1\n",
    "    \n",
    "    while(start_index <= end_index):\n",
    "        mid = start_index + (end_index - start_index) // 2\n",
    "        if find_element == arr[mid]:\n",
    "            result = mid\n",
    "            end_index = mid - 1\n",
    "        elif find_element > arr[mid]:\n",
    "            start_index = mid + 1\n",
    "        else:\n",
    "            end_index = mid - 1\n",
    "    return result"
   ]
  },
  {
   "cell_type": "code",
   "execution_count": 38,
   "metadata": {},
   "outputs": [],
   "source": [
    "def find_last_occurrence(arr, searched_element):\n",
    "    start_index = 0\n",
    "    last_index = len(arr) - 1\n",
    "    last_occurrence = -1\n",
    "    \n",
    "    while (start_index <= last_index):\n",
    "        mid_index = start_index + (last_index - start_index) // 2\n",
    "        if searched_element == arr[mid_index]:\n",
    "            last_occurrence = mid_index\n",
    "            start_index = mid_index + 1\n",
    "        elif searched_element > arr[mid_index]:\n",
    "            start_index = mid_index + 1\n",
    "        else:\n",
    "            last_index = mid_index - 1\n",
    "    return last_occurrence"
   ]
  },
  {
   "cell_type": "code",
   "execution_count": 39,
   "metadata": {},
   "outputs": [
    {
     "name": "stdout",
     "output_type": "stream",
     "text": [
      "first occurrence of element - 8 is 5\n",
      "last occurrence of element - 8 is 7\n"
     ]
    }
   ],
   "source": [
    "elements = [2,3,3,4,5,8,8,8]\n",
    "element = 8\n",
    "print(\"first occurrence of element - {0} is {1}\".format(element, find_first_occurrence(elements, element)))\n",
    "print(\"last occurrence of element - {0} is {1}\".format(element, find_last_occurrence(elements, element)))"
   ]
  },
  {
   "cell_type": "markdown",
   "metadata": {},
   "source": [
    "## count of an element "
   ]
  },
  {
   "cell_type": "code",
   "execution_count": 40,
   "metadata": {},
   "outputs": [],
   "source": [
    "def get_count(first_occurrence, last_occurrence):\n",
    "    if first_occurrence != -1:\n",
    "        count = (last_occurrence - first_occurrence) + 1\n",
    "        return count\n",
    "    return -1"
   ]
  },
  {
   "cell_type": "code",
   "execution_count": 43,
   "metadata": {},
   "outputs": [
    {
     "name": "stdout",
     "output_type": "stream",
     "text": [
      "3 has 2 count in the list\n"
     ]
    }
   ],
   "source": [
    "elements = [2,3,3,4,5,8,8,8]\n",
    "element = 3\n",
    "\n",
    "f_occure = find_first_occurrence(elements, element)\n",
    "l_occure = find_last_occurrence(elements, element)\n",
    "count = get_count(f_occure, l_occure)\n",
    "if count != -1:\n",
    "    print(\"{0} has {1} count in the list\".format(element, count))\n",
    "else:\n",
    "    print(\"element not found in the list\")"
   ]
  },
  {
   "cell_type": "code",
   "execution_count": null,
   "metadata": {},
   "outputs": [],
   "source": []
  }
 ],
 "metadata": {
  "kernelspec": {
   "display_name": "Python 3",
   "language": "python",
   "name": "python3"
  },
  "language_info": {
   "codemirror_mode": {
    "name": "ipython",
    "version": 3
   },
   "file_extension": ".py",
   "mimetype": "text/x-python",
   "name": "python",
   "nbconvert_exporter": "python",
   "pygments_lexer": "ipython3",
   "version": "3.8.5"
  }
 },
 "nbformat": 4,
 "nbformat_minor": 4
}
