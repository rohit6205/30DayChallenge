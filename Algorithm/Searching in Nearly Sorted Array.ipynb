{
 "cells": [
  {
   "cell_type": "code",
   "execution_count": 1,
   "metadata": {},
   "outputs": [],
   "source": [
    "def get_searched_element(arr, searched_element):\n",
    "    start = 0\n",
    "    end = len(arr) - 1\n",
    "    while (start <= end):\n",
    "        mid = start + (end - start) // 2\n",
    "        if arr[mid] == searched_element:\n",
    "            return mid\n",
    "        elif (mid - 1) <= start and arr[mid-1] == element:\n",
    "            return mid - 1\n",
    "        elif (mid + 1) <= end and arr[mid+1] == element:\n",
    "            return mid + 1\n",
    "        \n",
    "        if element > arr[mid]:\n",
    "            start = mid + 2\n",
    "        else:\n",
    "            end = mid - 2\n",
    "    return -1"
   ]
  },
  {
   "cell_type": "code",
   "execution_count": 7,
   "metadata": {},
   "outputs": [
    {
     "name": "stdout",
     "output_type": "stream",
     "text": [
      "60 is at position - 5 \n"
     ]
    }
   ],
   "source": [
    "elements = [5, 10, 30, 40, 50, 60]\n",
    "element = 60\n",
    "print(\"{} is at position - {} \".format(element, get_searched_element(elements, element)))"
   ]
  },
  {
   "cell_type": "code",
   "execution_count": null,
   "metadata": {},
   "outputs": [],
   "source": []
  }
 ],
 "metadata": {
  "kernelspec": {
   "display_name": "Python 3",
   "language": "python",
   "name": "python3"
  },
  "language_info": {
   "codemirror_mode": {
    "name": "ipython",
    "version": 3
   },
   "file_extension": ".py",
   "mimetype": "text/x-python",
   "name": "python",
   "nbconvert_exporter": "python",
   "pygments_lexer": "ipython3",
   "version": "3.8.5"
  }
 },
 "nbformat": 4,
 "nbformat_minor": 4
}
