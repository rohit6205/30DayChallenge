{
 "cells": [
  {
   "cell_type": "code",
   "execution_count": 37,
   "metadata": {},
   "outputs": [],
   "source": [
    "def get_number_of_rotation(arr):\n",
    "    ## check neighbours of mid element\n",
    "    N = len(arr)\n",
    "    start = 0\n",
    "    end = N - 1\n",
    "    while start <= end:\n",
    "        if arr[start] <= arr[end]:\n",
    "            return start\n",
    "        mid = start + (end - start) // 2\n",
    "        previous = (mid + N - 1) % N\n",
    "        next_ = (mid + 1) % N\n",
    "        if arr[mid] < arr[previous] and arr[mid] < arr[next_]:\n",
    "            return mid\n",
    "        elif arr[start] < arr[mid]:\n",
    "            start = mid + 1\n",
    "        elif arr[mid] < arr[end]:\n",
    "            end = mid - 1\n",
    "    return -1"
   ]
  },
  {
   "cell_type": "code",
   "execution_count": 40,
   "metadata": {},
   "outputs": [
    {
     "name": "stdout",
     "output_type": "stream",
     "text": [
      "2 left Rotation will make this list sorted\n"
     ]
    }
   ],
   "source": [
    "elements = [9, 10, -1, 0, 1, 2, 4, 6]\n",
    "print(\"{} left Rotation will make this list sorted\".format(get_number_of_rotation(elements)))"
   ]
  },
  {
   "cell_type": "code",
   "execution_count": null,
   "metadata": {},
   "outputs": [],
   "source": []
  }
 ],
 "metadata": {
  "kernelspec": {
   "display_name": "Python 3",
   "language": "python",
   "name": "python3"
  },
  "language_info": {
   "codemirror_mode": {
    "name": "ipython",
    "version": 3
   },
   "file_extension": ".py",
   "mimetype": "text/x-python",
   "name": "python",
   "nbconvert_exporter": "python",
   "pygments_lexer": "ipython3",
   "version": "3.8.5"
  }
 },
 "nbformat": 4,
 "nbformat_minor": 4
}
