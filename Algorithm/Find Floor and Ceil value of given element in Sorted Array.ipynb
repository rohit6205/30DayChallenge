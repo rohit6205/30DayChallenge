{
 "cells": [
  {
   "cell_type": "code",
   "execution_count": 59,
   "metadata": {},
   "outputs": [],
   "source": [
    "def get_floor_number(arr, searched_element):\n",
    "    \"\"\" returns floor element  of searched element \"\"\"\n",
    "    start = 0\n",
    "    end = len(arr) - 1\n",
    "    floor_element_index = -1\n",
    "    while start <= end:\n",
    "        mid = start + (end - start) // 2\n",
    "        if arr[mid] == searched_element:\n",
    "            return mid\n",
    "        elif searched_element > arr[mid]:\n",
    "            start = mid + 1\n",
    "            if arr[mid] < searched_element:\n",
    "                floor_element_index = mid\n",
    "        else:\n",
    "            end = mid - 1\n",
    "            if arr[mid] < searched_element:\n",
    "                floor_element_index = mid\n",
    "    return floor_element_index"
   ]
  },
  {
   "cell_type": "code",
   "execution_count": 86,
   "metadata": {},
   "outputs": [
    {
     "name": "stdout",
     "output_type": "stream",
     "text": [
      "Floor value of 1 is at postion -1\n",
      "Floor value of 5 is at position -1\n",
      "Floor value of 190 is at position 8\n"
     ]
    }
   ],
   "source": [
    "elements = [10, 20, 30, 40, 80, 100, 100, 120, 190]\n",
    "\n",
    "element = 1\n",
    "print(\"Floor value of {0} is at postion {1}\".format(element, get_floor_number(elements, element)))\n",
    "\n",
    "element = 5\n",
    "print(\"Floor value of {0} is at position {1}\".format(element, get_floor_number(elements, element)))\n",
    "\n",
    "element = 190\n",
    "print(\"Floor value of {0} is at position {1}\".format(element, get_floor_number(elements, element)))"
   ]
  },
  {
   "cell_type": "markdown",
   "metadata": {},
   "source": [
    "## Find Ceil value of an element from a sorted array"
   ]
  },
  {
   "cell_type": "code",
   "execution_count": 87,
   "metadata": {},
   "outputs": [],
   "source": [
    "def get_ceil_value(arr, searched_element):\n",
    "    \"\"\"  \"\"\"\n",
    "    start = 0\n",
    "    end = len(arr) - 1\n",
    "    ceil_element_index = -1\n",
    "    while(start <= end):\n",
    "        mid = start + (end - start) // 2\n",
    "        if arr[mid] == searched_element:\n",
    "            return mid\n",
    "        elif searched_element > arr[mid]:\n",
    "            start = mid + 1\n",
    "            if searched_element < arr[mid]:\n",
    "                ceil_element_index = mid\n",
    "            \n",
    "        else:\n",
    "            end = mid - 1\n",
    "            if searched_element < arr[mid]:\n",
    "                ceil_element_index = mid\n",
    "    return ceil_element_index"
   ]
  },
  {
   "cell_type": "code",
   "execution_count": 90,
   "metadata": {},
   "outputs": [
    {
     "name": "stdout",
     "output_type": "stream",
     "text": [
      "Ceil value of 10 is at position 6\n",
      "Ceil value of 13 is at position 8\n",
      "Ceil value of 120 is at position -1\n"
     ]
    }
   ],
   "source": [
    "elements = [1, 2, 3, 4, 8, 10, 10, 12, 19]\n",
    "\n",
    "\n",
    "element = 10\n",
    "print(\"Ceil value of {} is at position {}\".format(element, get_ceil_value(elements, element)))\n",
    "\n",
    "element = 13\n",
    "print(\"Ceil value of {} is at position {}\".format(element, get_ceil_value(elements, element)))\n",
    "\n",
    "element = 120\n",
    "print(\"Ceil value of {} is at position {}\".format(element, get_ceil_value(elements, element)))"
   ]
  },
  {
   "cell_type": "code",
   "execution_count": null,
   "metadata": {},
   "outputs": [],
   "source": []
  }
 ],
 "metadata": {
  "kernelspec": {
   "display_name": "Python 3",
   "language": "python",
   "name": "python3"
  },
  "language_info": {
   "codemirror_mode": {
    "name": "ipython",
    "version": 3
   },
   "file_extension": ".py",
   "mimetype": "text/x-python",
   "name": "python",
   "nbconvert_exporter": "python",
   "pygments_lexer": "ipython3",
   "version": "3.8.5"
  }
 },
 "nbformat": 4,
 "nbformat_minor": 4
}
