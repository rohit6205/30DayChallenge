{
 "cells": [
  {
   "cell_type": "code",
   "execution_count": 71,
   "metadata": {},
   "outputs": [],
   "source": [
    "inputStr = 'aaabbccddeeef'"
   ]
  },
  {
   "cell_type": "code",
   "execution_count": 72,
   "metadata": {},
   "outputs": [],
   "source": [
    "import copy"
   ]
  },
  {
   "cell_type": "code",
   "execution_count": 73,
   "metadata": {},
   "outputs": [],
   "source": [
    "arr1 = list(inputStr)"
   ]
  },
  {
   "cell_type": "code",
   "execution_count": 74,
   "metadata": {},
   "outputs": [
    {
     "data": {
      "text/plain": [
       "['a', 'a', 'a', 'b', 'b', 'c', 'c', 'd', 'd', 'e', 'e', 'e', 'f']"
      ]
     },
     "execution_count": 74,
     "metadata": {},
     "output_type": "execute_result"
    }
   ],
   "source": [
    "arr1"
   ]
  },
  {
   "cell_type": "code",
   "execution_count": 75,
   "metadata": {},
   "outputs": [],
   "source": [
    "def get_first_unique(arr):\n",
    "    \n",
    "    for i in range(len(arr)):\n",
    "#         print(i)\n",
    "        check = copy.deepcopy(arr[i])\n",
    "#         print(check)\n",
    "        arr[i] = 'NO'\n",
    "        print(arr)\n",
    "        if check not in arr:\n",
    "            arr[i] = check\n",
    "            return check\n",
    "        else:\n",
    "            arr[i] = check\n",
    "    return '_'"
   ]
  },
  {
   "cell_type": "code",
   "execution_count": 76,
   "metadata": {},
   "outputs": [
    {
     "name": "stdout",
     "output_type": "stream",
     "text": [
      "['NO', 'a', 'a', 'b', 'b', 'c', 'c', 'd', 'd', 'e', 'e', 'e', 'f']\n",
      "['a', 'NO', 'a', 'b', 'b', 'c', 'c', 'd', 'd', 'e', 'e', 'e', 'f']\n",
      "['a', 'a', 'NO', 'b', 'b', 'c', 'c', 'd', 'd', 'e', 'e', 'e', 'f']\n",
      "['a', 'a', 'a', 'NO', 'b', 'c', 'c', 'd', 'd', 'e', 'e', 'e', 'f']\n",
      "['a', 'a', 'a', 'b', 'NO', 'c', 'c', 'd', 'd', 'e', 'e', 'e', 'f']\n",
      "['a', 'a', 'a', 'b', 'b', 'NO', 'c', 'd', 'd', 'e', 'e', 'e', 'f']\n",
      "['a', 'a', 'a', 'b', 'b', 'c', 'NO', 'd', 'd', 'e', 'e', 'e', 'f']\n",
      "['a', 'a', 'a', 'b', 'b', 'c', 'c', 'NO', 'd', 'e', 'e', 'e', 'f']\n",
      "['a', 'a', 'a', 'b', 'b', 'c', 'c', 'd', 'NO', 'e', 'e', 'e', 'f']\n",
      "['a', 'a', 'a', 'b', 'b', 'c', 'c', 'd', 'd', 'NO', 'e', 'e', 'f']\n",
      "['a', 'a', 'a', 'b', 'b', 'c', 'c', 'd', 'd', 'e', 'NO', 'e', 'f']\n",
      "['a', 'a', 'a', 'b', 'b', 'c', 'c', 'd', 'd', 'e', 'e', 'NO', 'f']\n",
      "['a', 'a', 'a', 'b', 'b', 'c', 'c', 'd', 'd', 'e', 'e', 'e', 'NO']\n"
     ]
    },
    {
     "data": {
      "text/plain": [
       "'f'"
      ]
     },
     "execution_count": 76,
     "metadata": {},
     "output_type": "execute_result"
    }
   ],
   "source": [
    "get_first_unique(arr1)"
   ]
  },
  {
   "cell_type": "code",
   "execution_count": null,
   "metadata": {},
   "outputs": [],
   "source": []
  }
 ],
 "metadata": {
  "kernelspec": {
   "display_name": "Python 3",
   "language": "python",
   "name": "python3"
  },
  "language_info": {
   "codemirror_mode": {
    "name": "ipython",
    "version": 3
   },
   "file_extension": ".py",
   "mimetype": "text/x-python",
   "name": "python",
   "nbconvert_exporter": "python",
   "pygments_lexer": "ipython3",
   "version": "3.8.5"
  }
 },
 "nbformat": 4,
 "nbformat_minor": 4
}
